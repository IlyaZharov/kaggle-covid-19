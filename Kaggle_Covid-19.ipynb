{
 "cells": [
  {
   "cell_type": "markdown",
   "metadata": {
    "id": "MnyMOixbHDLW",
    "pycharm": {
     "name": "#%% md\n"
    }
   },
   "source": [
    "Итоговый проект Жаров И.А."
   ]
  },
  {
   "cell_type": "markdown",
   "metadata": {
    "id": "pbVZ8AW1HJGg",
    "pycharm": {
     "name": "#%% md\n"
    }
   },
   "source": [
    "[Ссылка на источник данных взятых с Kaggle.com](https://www.kaggle.com/datasets/meirnizri/covid19-dataset?select=Covid+Data.csv)"
   ]
  },
  {
   "cell_type": "markdown",
   "metadata": {
    "id": "cKvrdPYgHPXS",
    "pycharm": {
     "name": "#%% md\n"
    }
   },
   "source": [
    "О наборе данных\n",
    "\n",
    "Контекст\n",
    "\n",
    "Коронавирусная болезнь (COVID-19) - это инфекционное заболевание, вызванное недавно обнаруженным коронавирусом. Большинство людей, инфицированных вирусом COVID-19, будут испытывать легкие и умеренные респираторные заболевания и выздоравливают, не требуя специального лечения. Пожилые люди и люди с основными медицинскими проблемами, такими как сердечно-сосудистые заболевания, диабет, хронические респираторные заболевания и рак, с большей вероятностью разовьют серьезные заболевания.\n",
    "В течение всей пандемии одной из основных проблем, с которой столкнулись медицинские работники, является нехватка медицинских ресурсов и надлежащий план их эффективного распределения. В эти трудные времена возможность предсказать, какой ресурс может потребоваться человеку во время положительного теста или даже до этого, окажет огромную помощь властям, поскольку они смогут закупить и организовать ресурсы, необходимые для спасения жизни этого пациента.\n",
    "\n",
    "Основная цель этого проекта - построить модель машинного обучения, которая, учитывая текущий симптом, статус и историю болезни пациента с Covid-19, будет предсказывать, находится ли пациент в высоком риске или нет.\n",
    "\n",
    "Содержание\n",
    "\n",
    "Набор данных был предоставлен мексиканским правительством (ссылка). Этот набор данных содержит огромное количество анонимной информации, связанной с пациентами, включая предварительные условия. Необработанный набор данных состоит из 21 уникальной функции и 1 048 576 уникальных пациентов. В логических функциях 1 означает \"да\", а 2 означает \"нет\". значениях 97 и 99 отсутствуют данные.\n",
    "\n",
    "'sex': женский или мужско\n",
    "\n",
    "'age': пациента.\n",
    "\n",
    "'classification': результаты теста на ковид. Значения 1-3 означают, что у пациента был диагностирован ковид в разных\n",
    "степени. 4 или выше означает, что пациент не является носителем ковида или что тест неубедиен.\n",
    "\n",
    "'patient type': госпитализирован или не госпитализирован.\n",
    "\n",
    "'pneumonia': есть ли у пациента воспаление воздушных мешков или нет.\n",
    "\n",
    "'pregnancy': беременна пациентка или нет.\n",
    "\n",
    "'diabetes': есть ли у пациента диабет или нет.\n",
    "\n",
    "'copd': Указывает, есть ли у пациента хроническая обструктивная болезнь легких или нет.\n",
    "\n",
    "'asthma': есть ли у пациента астма или нет.\n",
    "\n",
    "'inmsupr': является ли пациент иммунодепрессированным или нет.\n",
    "\n",
    "'hypertension': есть ли у пациента гипертония или нет.\n",
    "\n",
    "'cardiovascular': есть ли у пациента заболевание, связанное с сердцем или кровеносными сосудами.\n",
    "\n",
    "'renal_chronic': есть ли у пациента хроническое заболевание почек или нет.\n",
    "\n",
    "'other_disease': есть ли у пациента другое заболевание или нет.\n",
    "\n",
    "'obesity': страдает ли пациент ожирением или нет.\n",
    "\n",
    "'tobacco': является ли пациент потребителем табака.\n",
    "\n",
    "'usmer': Указывает, лечил ли пациент медицинские отделения первого, второго или третьего уровня.\n",
    "\n",
    "'medical_unit': тип учреждения Национальной системы здравоохранения, которое оказывала помощь.\n",
    "\n",
    "'intubed': был ли пациент подключен к аппарату искусственной вентиляции легких.\n",
    "\n",
    "'icu': Указывает, был ли пациент госпитализирован в отделение интенсивной терапии.\n",
    "\n",
    "'date_diet: указывает, умер он или выздоровел.\n",
    "\n",
    "\n",
    "Об этом файле\n",
    "\n",
    "Содержит огромное количество анонимной информации, связанной с пациентами, включая предварительные условия. Необработанный набор данных состоит из 21 различных функций и 1 048 576 уникальных пациентов. В логических функциях 1 означает \"да\", а 2 означает \"нет\". значениях 97 и 99 отсутствуют данные."
   ]
  },
  {
   "cell_type": "markdown",
   "metadata": {
    "id": "mLPOlGjOHVHi",
    "pycharm": {
     "name": "#%% md\n"
    }
   },
   "source": [
    "Устанавливаем необходимые библиотеки"
   ]
  },
  {
   "cell_type": "code",
   "execution_count": 1,
   "metadata": {
    "id": "4r6SvarwHhBO",
    "pycharm": {
     "name": "#%%\n"
    }
   },
   "outputs": [
    {
     "name": "stdout",
     "output_type": "stream",
     "text": [
      "Requirement already satisfied: seaborn in /opt/anaconda3/envs/DS-ENV/lib/python3.10/site-packages (0.12.1)\r\n",
      "Requirement already satisfied: numpy>=1.17 in /opt/anaconda3/envs/DS-ENV/lib/python3.10/site-packages (from seaborn) (1.21.0)\r\n",
      "Requirement already satisfied: matplotlib!=3.6.1,>=3.1 in /opt/anaconda3/envs/DS-ENV/lib/python3.10/site-packages (from seaborn) (3.6.2)\r\n",
      "Requirement already satisfied: pandas>=0.25 in /opt/anaconda3/envs/DS-ENV/lib/python3.10/site-packages (from seaborn) (1.5.2)\r\n",
      "Requirement already satisfied: cycler>=0.10 in /opt/anaconda3/envs/DS-ENV/lib/python3.10/site-packages (from matplotlib!=3.6.1,>=3.1->seaborn) (0.11.0)\r\n",
      "Requirement already satisfied: python-dateutil>=2.7 in /opt/anaconda3/envs/DS-ENV/lib/python3.10/site-packages (from matplotlib!=3.6.1,>=3.1->seaborn) (2.8.2)\r\n",
      "Requirement already satisfied: fonttools>=4.22.0 in /opt/anaconda3/envs/DS-ENV/lib/python3.10/site-packages (from matplotlib!=3.6.1,>=3.1->seaborn) (4.38.0)\r\n",
      "Requirement already satisfied: kiwisolver>=1.0.1 in /opt/anaconda3/envs/DS-ENV/lib/python3.10/site-packages (from matplotlib!=3.6.1,>=3.1->seaborn) (1.4.4)\r\n",
      "Requirement already satisfied: pyparsing>=2.2.1 in /opt/anaconda3/envs/DS-ENV/lib/python3.10/site-packages (from matplotlib!=3.6.1,>=3.1->seaborn) (3.0.9)\r\n",
      "Requirement already satisfied: packaging>=20.0 in /opt/anaconda3/envs/DS-ENV/lib/python3.10/site-packages (from matplotlib!=3.6.1,>=3.1->seaborn) (21.3)\r\n",
      "Requirement already satisfied: contourpy>=1.0.1 in /opt/anaconda3/envs/DS-ENV/lib/python3.10/site-packages (from matplotlib!=3.6.1,>=3.1->seaborn) (1.0.6)\r\n",
      "Requirement already satisfied: pillow>=6.2.0 in /opt/anaconda3/envs/DS-ENV/lib/python3.10/site-packages (from matplotlib!=3.6.1,>=3.1->seaborn) (9.3.0)\r\n",
      "Requirement already satisfied: pytz>=2020.1 in /opt/anaconda3/envs/DS-ENV/lib/python3.10/site-packages (from pandas>=0.25->seaborn) (2022.1)\r\n",
      "Requirement already satisfied: six>=1.5 in /opt/anaconda3/envs/DS-ENV/lib/python3.10/site-packages (from python-dateutil>=2.7->matplotlib!=3.6.1,>=3.1->seaborn) (1.16.0)\r\n",
      "Requirement already satisfied: sklearn in /opt/anaconda3/envs/DS-ENV/lib/python3.10/site-packages (0.0.post1)\r\n"
     ]
    }
   ],
   "source": [
    "!pip install seaborn\n",
    "!pip install sklearn\n",
    "import pandas as pd\n",
    "import matplotlib.pyplot as plt\n",
    "%matplotlib inline\n",
    "import seaborn as sns\n",
    "\n",
    "# устанавливаем точность чисел с плавающей точкой\n",
    "%precision %.4f\n",
    "\n",
    "import warnings\n",
    "warnings.filterwarnings('ignore')  # отключаем предупреждения"
   ]
  },
  {
   "cell_type": "code",
   "execution_count": 2,
   "metadata": {
    "colab": {
     "base_uri": "https://localhost:8080/"
    },
    "executionInfo": {
     "elapsed": 25893,
     "status": "ok",
     "timestamp": 1669876564014,
     "user": {
      "displayName": "Илья Жаров",
      "userId": "13442611294234190725"
     },
     "user_tz": -180
    },
    "id": "u2BAq_bnHq4C",
    "outputId": "855f1b04-8dbd-40da-d72f-12c3f5559202",
    "pycharm": {
     "name": "#%%\n"
    }
   },
   "outputs": [],
   "source": [
    "# from google.colab import drive\n",
    "# drive.mount('/content/drive')"
   ]
  },
  {
   "cell_type": "markdown",
   "metadata": {
    "id": "IdaUuLlsHuC2",
    "pycharm": {
     "name": "#%% md\n"
    }
   },
   "source": [
    "Считываем данные таблицы"
   ]
  },
  {
   "cell_type": "code",
   "execution_count": 3,
   "metadata": {
    "colab": {
     "base_uri": "https://localhost:8080/",
     "height": 551
    },
    "executionInfo": {
     "elapsed": 6344,
     "status": "ok",
     "timestamp": 1669876570352,
     "user": {
      "displayName": "Илья Жаров",
      "userId": "13442611294234190725"
     },
     "user_tz": -180
    },
    "id": "nAGW22L6HyP1",
    "outputId": "df91550f-0bb6-4c0d-e776-98edf26269f4",
    "pycharm": {
     "name": "#%%\n"
    }
   },
   "outputs": [
    {
     "name": "stdout",
     "output_type": "stream",
     "text": [
      "zsh:1: command not found: gdown\r\n"
     ]
    },
    {
     "data": {
      "text/plain": "         USMER  MEDICAL_UNIT  SEX  PATIENT_TYPE   DATE_DIED  INTUBED  \\\n0            2             1    1             1  03/05/2020       97   \n1            2             1    2             1  03/06/2020       97   \n2            2             1    2             2  09/06/2020        1   \n3            2             1    1             1  12/06/2020       97   \n4            2             1    2             1  21/06/2020       97   \n...        ...           ...  ...           ...         ...      ...   \n1048570      2            13    2             1  9999-99-99       97   \n1048571      1            13    2             2  9999-99-99        2   \n1048572      2            13    2             1  9999-99-99       97   \n1048573      2            13    2             1  9999-99-99       97   \n1048574      2            13    2             1  9999-99-99       97   \n\n         PNEUMONIA  AGE  PREGNANT  DIABETES  ...  ASTHMA  INMSUPR  \\\n0                1   65         2         2  ...       2        2   \n1                1   72        97         2  ...       2        2   \n2                2   55        97         1  ...       2        2   \n3                2   53         2         2  ...       2        2   \n4                2   68        97         1  ...       2        2   \n...            ...  ...       ...       ...  ...     ...      ...   \n1048570          2   40        97         2  ...       2        2   \n1048571          2   51        97         2  ...       2        2   \n1048572          2   55        97         2  ...       2        2   \n1048573          2   28        97         2  ...       2        2   \n1048574          2   52        97         2  ...       2        2   \n\n         HIPERTENSION  OTHER_DISEASE  CARDIOVASCULAR  OBESITY  RENAL_CHRONIC  \\\n0                   1              2               2        2              2   \n1                   1              2               2        1              1   \n2                   2              2               2        2              2   \n3                   2              2               2        2              2   \n4                   1              2               2        2              2   \n...               ...            ...             ...      ...            ...   \n1048570             2              2               2        2              2   \n1048571             1              2               2        2              2   \n1048572             2              2               2        2              2   \n1048573             2              2               2        2              2   \n1048574             2              2               2        2              2   \n\n         TOBACCO  CLASIFFICATION_FINAL  ICU  \n0              2                     3   97  \n1              2                     5   97  \n2              2                     3    2  \n3              2                     7   97  \n4              2                     3   97  \n...          ...                   ...  ...  \n1048570        2                     7   97  \n1048571        2                     7    2  \n1048572        2                     7   97  \n1048573        2                     7   97  \n1048574        2                     7   97  \n\n[1048575 rows x 21 columns]",
      "text/html": "<div>\n<style scoped>\n    .dataframe tbody tr th:only-of-type {\n        vertical-align: middle;\n    }\n\n    .dataframe tbody tr th {\n        vertical-align: top;\n    }\n\n    .dataframe thead th {\n        text-align: right;\n    }\n</style>\n<table border=\"1\" class=\"dataframe\">\n  <thead>\n    <tr style=\"text-align: right;\">\n      <th></th>\n      <th>USMER</th>\n      <th>MEDICAL_UNIT</th>\n      <th>SEX</th>\n      <th>PATIENT_TYPE</th>\n      <th>DATE_DIED</th>\n      <th>INTUBED</th>\n      <th>PNEUMONIA</th>\n      <th>AGE</th>\n      <th>PREGNANT</th>\n      <th>DIABETES</th>\n      <th>...</th>\n      <th>ASTHMA</th>\n      <th>INMSUPR</th>\n      <th>HIPERTENSION</th>\n      <th>OTHER_DISEASE</th>\n      <th>CARDIOVASCULAR</th>\n      <th>OBESITY</th>\n      <th>RENAL_CHRONIC</th>\n      <th>TOBACCO</th>\n      <th>CLASIFFICATION_FINAL</th>\n      <th>ICU</th>\n    </tr>\n  </thead>\n  <tbody>\n    <tr>\n      <th>0</th>\n      <td>2</td>\n      <td>1</td>\n      <td>1</td>\n      <td>1</td>\n      <td>03/05/2020</td>\n      <td>97</td>\n      <td>1</td>\n      <td>65</td>\n      <td>2</td>\n      <td>2</td>\n      <td>...</td>\n      <td>2</td>\n      <td>2</td>\n      <td>1</td>\n      <td>2</td>\n      <td>2</td>\n      <td>2</td>\n      <td>2</td>\n      <td>2</td>\n      <td>3</td>\n      <td>97</td>\n    </tr>\n    <tr>\n      <th>1</th>\n      <td>2</td>\n      <td>1</td>\n      <td>2</td>\n      <td>1</td>\n      <td>03/06/2020</td>\n      <td>97</td>\n      <td>1</td>\n      <td>72</td>\n      <td>97</td>\n      <td>2</td>\n      <td>...</td>\n      <td>2</td>\n      <td>2</td>\n      <td>1</td>\n      <td>2</td>\n      <td>2</td>\n      <td>1</td>\n      <td>1</td>\n      <td>2</td>\n      <td>5</td>\n      <td>97</td>\n    </tr>\n    <tr>\n      <th>2</th>\n      <td>2</td>\n      <td>1</td>\n      <td>2</td>\n      <td>2</td>\n      <td>09/06/2020</td>\n      <td>1</td>\n      <td>2</td>\n      <td>55</td>\n      <td>97</td>\n      <td>1</td>\n      <td>...</td>\n      <td>2</td>\n      <td>2</td>\n      <td>2</td>\n      <td>2</td>\n      <td>2</td>\n      <td>2</td>\n      <td>2</td>\n      <td>2</td>\n      <td>3</td>\n      <td>2</td>\n    </tr>\n    <tr>\n      <th>3</th>\n      <td>2</td>\n      <td>1</td>\n      <td>1</td>\n      <td>1</td>\n      <td>12/06/2020</td>\n      <td>97</td>\n      <td>2</td>\n      <td>53</td>\n      <td>2</td>\n      <td>2</td>\n      <td>...</td>\n      <td>2</td>\n      <td>2</td>\n      <td>2</td>\n      <td>2</td>\n      <td>2</td>\n      <td>2</td>\n      <td>2</td>\n      <td>2</td>\n      <td>7</td>\n      <td>97</td>\n    </tr>\n    <tr>\n      <th>4</th>\n      <td>2</td>\n      <td>1</td>\n      <td>2</td>\n      <td>1</td>\n      <td>21/06/2020</td>\n      <td>97</td>\n      <td>2</td>\n      <td>68</td>\n      <td>97</td>\n      <td>1</td>\n      <td>...</td>\n      <td>2</td>\n      <td>2</td>\n      <td>1</td>\n      <td>2</td>\n      <td>2</td>\n      <td>2</td>\n      <td>2</td>\n      <td>2</td>\n      <td>3</td>\n      <td>97</td>\n    </tr>\n    <tr>\n      <th>...</th>\n      <td>...</td>\n      <td>...</td>\n      <td>...</td>\n      <td>...</td>\n      <td>...</td>\n      <td>...</td>\n      <td>...</td>\n      <td>...</td>\n      <td>...</td>\n      <td>...</td>\n      <td>...</td>\n      <td>...</td>\n      <td>...</td>\n      <td>...</td>\n      <td>...</td>\n      <td>...</td>\n      <td>...</td>\n      <td>...</td>\n      <td>...</td>\n      <td>...</td>\n      <td>...</td>\n    </tr>\n    <tr>\n      <th>1048570</th>\n      <td>2</td>\n      <td>13</td>\n      <td>2</td>\n      <td>1</td>\n      <td>9999-99-99</td>\n      <td>97</td>\n      <td>2</td>\n      <td>40</td>\n      <td>97</td>\n      <td>2</td>\n      <td>...</td>\n      <td>2</td>\n      <td>2</td>\n      <td>2</td>\n      <td>2</td>\n      <td>2</td>\n      <td>2</td>\n      <td>2</td>\n      <td>2</td>\n      <td>7</td>\n      <td>97</td>\n    </tr>\n    <tr>\n      <th>1048571</th>\n      <td>1</td>\n      <td>13</td>\n      <td>2</td>\n      <td>2</td>\n      <td>9999-99-99</td>\n      <td>2</td>\n      <td>2</td>\n      <td>51</td>\n      <td>97</td>\n      <td>2</td>\n      <td>...</td>\n      <td>2</td>\n      <td>2</td>\n      <td>1</td>\n      <td>2</td>\n      <td>2</td>\n      <td>2</td>\n      <td>2</td>\n      <td>2</td>\n      <td>7</td>\n      <td>2</td>\n    </tr>\n    <tr>\n      <th>1048572</th>\n      <td>2</td>\n      <td>13</td>\n      <td>2</td>\n      <td>1</td>\n      <td>9999-99-99</td>\n      <td>97</td>\n      <td>2</td>\n      <td>55</td>\n      <td>97</td>\n      <td>2</td>\n      <td>...</td>\n      <td>2</td>\n      <td>2</td>\n      <td>2</td>\n      <td>2</td>\n      <td>2</td>\n      <td>2</td>\n      <td>2</td>\n      <td>2</td>\n      <td>7</td>\n      <td>97</td>\n    </tr>\n    <tr>\n      <th>1048573</th>\n      <td>2</td>\n      <td>13</td>\n      <td>2</td>\n      <td>1</td>\n      <td>9999-99-99</td>\n      <td>97</td>\n      <td>2</td>\n      <td>28</td>\n      <td>97</td>\n      <td>2</td>\n      <td>...</td>\n      <td>2</td>\n      <td>2</td>\n      <td>2</td>\n      <td>2</td>\n      <td>2</td>\n      <td>2</td>\n      <td>2</td>\n      <td>2</td>\n      <td>7</td>\n      <td>97</td>\n    </tr>\n    <tr>\n      <th>1048574</th>\n      <td>2</td>\n      <td>13</td>\n      <td>2</td>\n      <td>1</td>\n      <td>9999-99-99</td>\n      <td>97</td>\n      <td>2</td>\n      <td>52</td>\n      <td>97</td>\n      <td>2</td>\n      <td>...</td>\n      <td>2</td>\n      <td>2</td>\n      <td>2</td>\n      <td>2</td>\n      <td>2</td>\n      <td>2</td>\n      <td>2</td>\n      <td>2</td>\n      <td>7</td>\n      <td>97</td>\n    </tr>\n  </tbody>\n</table>\n<p>1048575 rows × 21 columns</p>\n</div>"
     },
     "execution_count": 3,
     "metadata": {},
     "output_type": "execute_result"
    }
   ],
   "source": [
    "! gdown 1bOn7R0jw4TvgIaQN0LtUgLrZ707BHoTg\n",
    "link = 'Covid Data.csv'\n",
    "df = pd.read_csv(link)\n",
    "df"
   ]
  },
  {
   "cell_type": "markdown",
   "metadata": {
    "id": "Wf3EH1PhIClp",
    "pycharm": {
     "name": "#%% md\n"
    }
   },
   "source": [
    "Очистим данные от неопределенных значений в тех колонках которые должны содержать четкий ответ (согласно аннотации к данным это значения \"97\" и \"99\"."
   ]
  },
  {
   "cell_type": "code",
   "execution_count": 4,
   "metadata": {
    "id": "uSnkqF3lIerB",
    "pycharm": {
     "name": "#%%\n"
    }
   },
   "outputs": [],
   "source": [
    "df = df.loc[(df.CLASIFFICATION_FINAL < 4)]                        # Результат теста на Covid-19 (1,2,3)\n",
    "df = df.loc[(df.SEX == 1) | (df.SEX == 2)]                        # Пол\n",
    "df = df.loc[(df.USMER == 1) | (df.USMER == 2) | (df.USMER == 3)]  # Медицинские отделения первого, второго или третьего уровня\n",
    "df = df.loc[(df.PATIENT_TYPE == 1) | (df.PATIENT_TYPE == 2)]      # Госпитализирован или не госпитализирован.\n",
    "df = df.loc[(df.PNEUMONIA == 1) | (df.PNEUMONIA == 2)]            # Пневмония\n",
    "df = df.loc[(df.DIABETES == 1) | (df.DIABETES == 2)]              # Диабет\n",
    "df = df.loc[(df.COPD == 1) | (df.COPD == 2)]                      # Хроническая обструктивная болезнь легких\n",
    "df = df.loc[(df.ASTHMA == 1) | (df.ASTHMA == 2)]                  # Астма\n",
    "df = df.loc[(df.INMSUPR == 1) | (df.INMSUPR == 2)]                # Является ли пациент иммунодепрессированным\n",
    "df = df.loc[(df.HIPERTENSION == 1) | (df.HIPERTENSION == 2)]      # Гипертония\n",
    "df = df.loc[(df.OTHER_DISEASE == 1) | (df.OTHER_DISEASE == 2)]    # Есть ли у пациента другое заболевание\n",
    "df = df.loc[(df.CARDIOVASCULAR == 1) | (df.CARDIOVASCULAR == 2)]  # Есть ли у пациента заболевание, связанное с сердцем или кровеносными сосудами\n",
    "df = df.loc[(df.OBESITY == 1) | (df.OBESITY == 2)]                # Страдает ли пациент ожирением\n",
    "df = df.loc[(df.RENAL_CHRONIC == 1) | (df.RENAL_CHRONIC == 2)]    # Есть ли у пациента хроническое заболевание почек\n",
    "df = df.loc[(df.TOBACCO == 1) | (df.TOBACCO == 2)]                # Является ли пациент потребителем табака\n",
    "df = df.loc[(df.INTUBED == 1) | (df.INTUBED == 2)]                # Был ли пациент подключен к аппарату искусственной вентиляции легких\n",
    "df = df.loc[(df.ICU == 1) | (df.ICU == 2)]                        # Был ли пациент госпитализирован в отделение интенсивной терапии."
   ]
  },
  {
   "cell_type": "markdown",
   "metadata": {
    "id": "RdQfAkbTKwyG",
    "pycharm": {
     "name": "#%% md\n"
    }
   },
   "source": [
    "Проверяем на наличие пропусков в данных"
   ]
  },
  {
   "cell_type": "code",
   "execution_count": 5,
   "metadata": {
    "colab": {
     "base_uri": "https://localhost:8080/"
    },
    "executionInfo": {
     "elapsed": 23,
     "status": "ok",
     "timestamp": 1669876570353,
     "user": {
      "displayName": "Илья Жаров",
      "userId": "13442611294234190725"
     },
     "user_tz": -180
    },
    "id": "LQvO835SK9YY",
    "outputId": "96f88ae0-1913-40c9-87da-17d6db0216e1",
    "pycharm": {
     "name": "#%%\n"
    }
   },
   "outputs": [
    {
     "data": {
      "text/plain": "USMER                   0\nMEDICAL_UNIT            0\nSEX                     0\nPATIENT_TYPE            0\nDATE_DIED               0\nINTUBED                 0\nPNEUMONIA               0\nAGE                     0\nPREGNANT                0\nDIABETES                0\nCOPD                    0\nASTHMA                  0\nINMSUPR                 0\nHIPERTENSION            0\nOTHER_DISEASE           0\nCARDIOVASCULAR          0\nOBESITY                 0\nRENAL_CHRONIC           0\nTOBACCO                 0\nCLASIFFICATION_FINAL    0\nICU                     0\ndtype: int64"
     },
     "execution_count": 5,
     "metadata": {},
     "output_type": "execute_result"
    }
   ],
   "source": [
    "df.isnull().sum()"
   ]
  },
  {
   "cell_type": "markdown",
   "metadata": {
    "id": "ICom0-D4K_kK",
    "pycharm": {
     "name": "#%% md\n"
    }
   },
   "source": [
    "Посмотрим информацию получившейся таблицы"
   ]
  },
  {
   "cell_type": "code",
   "execution_count": 6,
   "metadata": {
    "colab": {
     "base_uri": "https://localhost:8080/"
    },
    "executionInfo": {
     "elapsed": 22,
     "status": "ok",
     "timestamp": 1669876570354,
     "user": {
      "displayName": "Илья Жаров",
      "userId": "13442611294234190725"
     },
     "user_tz": -180
    },
    "id": "OfLzwxWbLMhU",
    "outputId": "b4240c0d-aebf-4bf3-990c-d666d39e72f5",
    "pycharm": {
     "name": "#%%\n"
    }
   },
   "outputs": [
    {
     "name": "stdout",
     "output_type": "stream",
     "text": [
      "<class 'pandas.core.frame.DataFrame'>\n",
      "Int64Index: 108273 entries, 2 to 1047933\n",
      "Data columns (total 21 columns):\n",
      " #   Column                Non-Null Count   Dtype \n",
      "---  ------                --------------   ----- \n",
      " 0   USMER                 108273 non-null  int64 \n",
      " 1   MEDICAL_UNIT          108273 non-null  int64 \n",
      " 2   SEX                   108273 non-null  int64 \n",
      " 3   PATIENT_TYPE          108273 non-null  int64 \n",
      " 4   DATE_DIED             108273 non-null  object\n",
      " 5   INTUBED               108273 non-null  int64 \n",
      " 6   PNEUMONIA             108273 non-null  int64 \n",
      " 7   AGE                   108273 non-null  int64 \n",
      " 8   PREGNANT              108273 non-null  int64 \n",
      " 9   DIABETES              108273 non-null  int64 \n",
      " 10  COPD                  108273 non-null  int64 \n",
      " 11  ASTHMA                108273 non-null  int64 \n",
      " 12  INMSUPR               108273 non-null  int64 \n",
      " 13  HIPERTENSION          108273 non-null  int64 \n",
      " 14  OTHER_DISEASE         108273 non-null  int64 \n",
      " 15  CARDIOVASCULAR        108273 non-null  int64 \n",
      " 16  OBESITY               108273 non-null  int64 \n",
      " 17  RENAL_CHRONIC         108273 non-null  int64 \n",
      " 18  TOBACCO               108273 non-null  int64 \n",
      " 19  CLASIFFICATION_FINAL  108273 non-null  int64 \n",
      " 20  ICU                   108273 non-null  int64 \n",
      "dtypes: int64(20), object(1)\n",
      "memory usage: 18.2+ MB\n"
     ]
    }
   ],
   "source": [
    "df.info()"
   ]
  },
  {
   "cell_type": "markdown",
   "metadata": {
    "id": "1siUDYPJMAX0",
    "pycharm": {
     "name": "#%% md\n"
    }
   },
   "source": [
    "Посмотрим на колонку 'DATE_DIED' (дата смерти).\n",
    "Эта колонка будет нашим откликом.\n",
    "\n",
    "Очевидно, что если дата смерти указана значит пациент умер. В противном случае в данной колонке указано '9999-99-99'.\n",
    "Преобразуем данные.\n",
    "Создадим колорку для откликов 'CL' и заполним ее значениями по следующему правилу:\n",
    "\n",
    "Из колонки 'DATE_DIED'\n",
    "*   0 - присвоим тем у кого дата указана '9999-99-99'\n",
    "*   1 - присвоим с реальной датой смерти\n",
    "\n",
    "Далее удалим колонку 'DATE_DIED' "
   ]
  },
  {
   "cell_type": "code",
   "execution_count": 7,
   "metadata": {
    "colab": {
     "base_uri": "https://localhost:8080/",
     "height": 483
    },
    "executionInfo": {
     "elapsed": 15,
     "status": "ok",
     "timestamp": 1669876570354,
     "user": {
      "displayName": "Илья Жаров",
      "userId": "13442611294234190725"
     },
     "user_tz": -180
    },
    "id": "kU5LfnbGMYtU",
    "outputId": "a8a5945d-41f0-4522-ceb5-35116acf1b96",
    "pycharm": {
     "name": "#%%\n"
    }
   },
   "outputs": [
    {
     "data": {
      "text/plain": "         USMER  MEDICAL_UNIT  SEX  PATIENT_TYPE  INTUBED  PNEUMONIA  AGE  \\\n2            2             1    2             2        1          2   55   \n5            2             1    1             2        2          1   40   \n8            2             1    1             2        2          2   37   \n9            2             1    1             2        2          2   25   \n11           2             1    2             2        2          2   24   \n...        ...           ...  ...           ...      ...        ...  ...   \n1047913      1            13    2             2        2          2   54   \n1047919      1            13    2             2        2          2   62   \n1047928      1            13    1             2        2          2   47   \n1047929      1            13    2             2        2          2   72   \n1047933      1            13    1             2        2          2   77   \n\n         PREGNANT  DIABETES  COPD  ...  INMSUPR  HIPERTENSION  OTHER_DISEASE  \\\n2              97         1     2  ...        2             2              2   \n5               2         2     2  ...        2             2              2   \n8               2         1     2  ...        2             1              2   \n9               2         2     2  ...        2             2              2   \n11             97         2     2  ...        2             2              2   \n...           ...       ...   ...  ...      ...           ...            ...   \n1047913        97         1     2  ...        2             2              2   \n1047919        97         2     2  ...        2             2              2   \n1047928         2         1     2  ...        2             2              2   \n1047929        97         1     2  ...        2             2              2   \n1047933         2         1     2  ...        1             1              2   \n\n         CARDIOVASCULAR  OBESITY  RENAL_CHRONIC  TOBACCO  \\\n2                     2        2              2        2   \n5                     2        2              2        2   \n8                     2        1              2        2   \n9                     2        2              2        2   \n11                    2        2              2        2   \n...                 ...      ...            ...      ...   \n1047913               2        2              2        2   \n1047919               2        2              2        2   \n1047928               2        2              2        2   \n1047929               1        1              2        2   \n1047933               2        2              2        2   \n\n         CLASIFFICATION_FINAL  ICU   CL  \n2                           3    2  1.0  \n5                           3    2  0.0  \n8                           3    2  0.0  \n9                           3    2  0.0  \n11                          3    2  0.0  \n...                       ...  ...  ...  \n1047913                     3    2  0.0  \n1047919                     3    2  0.0  \n1047928                     3    2  0.0  \n1047929                     3    2  0.0  \n1047933                     3    2  0.0  \n\n[108273 rows x 21 columns]",
      "text/html": "<div>\n<style scoped>\n    .dataframe tbody tr th:only-of-type {\n        vertical-align: middle;\n    }\n\n    .dataframe tbody tr th {\n        vertical-align: top;\n    }\n\n    .dataframe thead th {\n        text-align: right;\n    }\n</style>\n<table border=\"1\" class=\"dataframe\">\n  <thead>\n    <tr style=\"text-align: right;\">\n      <th></th>\n      <th>USMER</th>\n      <th>MEDICAL_UNIT</th>\n      <th>SEX</th>\n      <th>PATIENT_TYPE</th>\n      <th>INTUBED</th>\n      <th>PNEUMONIA</th>\n      <th>AGE</th>\n      <th>PREGNANT</th>\n      <th>DIABETES</th>\n      <th>COPD</th>\n      <th>...</th>\n      <th>INMSUPR</th>\n      <th>HIPERTENSION</th>\n      <th>OTHER_DISEASE</th>\n      <th>CARDIOVASCULAR</th>\n      <th>OBESITY</th>\n      <th>RENAL_CHRONIC</th>\n      <th>TOBACCO</th>\n      <th>CLASIFFICATION_FINAL</th>\n      <th>ICU</th>\n      <th>CL</th>\n    </tr>\n  </thead>\n  <tbody>\n    <tr>\n      <th>2</th>\n      <td>2</td>\n      <td>1</td>\n      <td>2</td>\n      <td>2</td>\n      <td>1</td>\n      <td>2</td>\n      <td>55</td>\n      <td>97</td>\n      <td>1</td>\n      <td>2</td>\n      <td>...</td>\n      <td>2</td>\n      <td>2</td>\n      <td>2</td>\n      <td>2</td>\n      <td>2</td>\n      <td>2</td>\n      <td>2</td>\n      <td>3</td>\n      <td>2</td>\n      <td>1.0</td>\n    </tr>\n    <tr>\n      <th>5</th>\n      <td>2</td>\n      <td>1</td>\n      <td>1</td>\n      <td>2</td>\n      <td>2</td>\n      <td>1</td>\n      <td>40</td>\n      <td>2</td>\n      <td>2</td>\n      <td>2</td>\n      <td>...</td>\n      <td>2</td>\n      <td>2</td>\n      <td>2</td>\n      <td>2</td>\n      <td>2</td>\n      <td>2</td>\n      <td>2</td>\n      <td>3</td>\n      <td>2</td>\n      <td>0.0</td>\n    </tr>\n    <tr>\n      <th>8</th>\n      <td>2</td>\n      <td>1</td>\n      <td>1</td>\n      <td>2</td>\n      <td>2</td>\n      <td>2</td>\n      <td>37</td>\n      <td>2</td>\n      <td>1</td>\n      <td>2</td>\n      <td>...</td>\n      <td>2</td>\n      <td>1</td>\n      <td>2</td>\n      <td>2</td>\n      <td>1</td>\n      <td>2</td>\n      <td>2</td>\n      <td>3</td>\n      <td>2</td>\n      <td>0.0</td>\n    </tr>\n    <tr>\n      <th>9</th>\n      <td>2</td>\n      <td>1</td>\n      <td>1</td>\n      <td>2</td>\n      <td>2</td>\n      <td>2</td>\n      <td>25</td>\n      <td>2</td>\n      <td>2</td>\n      <td>2</td>\n      <td>...</td>\n      <td>2</td>\n      <td>2</td>\n      <td>2</td>\n      <td>2</td>\n      <td>2</td>\n      <td>2</td>\n      <td>2</td>\n      <td>3</td>\n      <td>2</td>\n      <td>0.0</td>\n    </tr>\n    <tr>\n      <th>11</th>\n      <td>2</td>\n      <td>1</td>\n      <td>2</td>\n      <td>2</td>\n      <td>2</td>\n      <td>2</td>\n      <td>24</td>\n      <td>97</td>\n      <td>2</td>\n      <td>2</td>\n      <td>...</td>\n      <td>2</td>\n      <td>2</td>\n      <td>2</td>\n      <td>2</td>\n      <td>2</td>\n      <td>2</td>\n      <td>2</td>\n      <td>3</td>\n      <td>2</td>\n      <td>0.0</td>\n    </tr>\n    <tr>\n      <th>...</th>\n      <td>...</td>\n      <td>...</td>\n      <td>...</td>\n      <td>...</td>\n      <td>...</td>\n      <td>...</td>\n      <td>...</td>\n      <td>...</td>\n      <td>...</td>\n      <td>...</td>\n      <td>...</td>\n      <td>...</td>\n      <td>...</td>\n      <td>...</td>\n      <td>...</td>\n      <td>...</td>\n      <td>...</td>\n      <td>...</td>\n      <td>...</td>\n      <td>...</td>\n      <td>...</td>\n    </tr>\n    <tr>\n      <th>1047913</th>\n      <td>1</td>\n      <td>13</td>\n      <td>2</td>\n      <td>2</td>\n      <td>2</td>\n      <td>2</td>\n      <td>54</td>\n      <td>97</td>\n      <td>1</td>\n      <td>2</td>\n      <td>...</td>\n      <td>2</td>\n      <td>2</td>\n      <td>2</td>\n      <td>2</td>\n      <td>2</td>\n      <td>2</td>\n      <td>2</td>\n      <td>3</td>\n      <td>2</td>\n      <td>0.0</td>\n    </tr>\n    <tr>\n      <th>1047919</th>\n      <td>1</td>\n      <td>13</td>\n      <td>2</td>\n      <td>2</td>\n      <td>2</td>\n      <td>2</td>\n      <td>62</td>\n      <td>97</td>\n      <td>2</td>\n      <td>2</td>\n      <td>...</td>\n      <td>2</td>\n      <td>2</td>\n      <td>2</td>\n      <td>2</td>\n      <td>2</td>\n      <td>2</td>\n      <td>2</td>\n      <td>3</td>\n      <td>2</td>\n      <td>0.0</td>\n    </tr>\n    <tr>\n      <th>1047928</th>\n      <td>1</td>\n      <td>13</td>\n      <td>1</td>\n      <td>2</td>\n      <td>2</td>\n      <td>2</td>\n      <td>47</td>\n      <td>2</td>\n      <td>1</td>\n      <td>2</td>\n      <td>...</td>\n      <td>2</td>\n      <td>2</td>\n      <td>2</td>\n      <td>2</td>\n      <td>2</td>\n      <td>2</td>\n      <td>2</td>\n      <td>3</td>\n      <td>2</td>\n      <td>0.0</td>\n    </tr>\n    <tr>\n      <th>1047929</th>\n      <td>1</td>\n      <td>13</td>\n      <td>2</td>\n      <td>2</td>\n      <td>2</td>\n      <td>2</td>\n      <td>72</td>\n      <td>97</td>\n      <td>1</td>\n      <td>2</td>\n      <td>...</td>\n      <td>2</td>\n      <td>2</td>\n      <td>2</td>\n      <td>1</td>\n      <td>1</td>\n      <td>2</td>\n      <td>2</td>\n      <td>3</td>\n      <td>2</td>\n      <td>0.0</td>\n    </tr>\n    <tr>\n      <th>1047933</th>\n      <td>1</td>\n      <td>13</td>\n      <td>1</td>\n      <td>2</td>\n      <td>2</td>\n      <td>2</td>\n      <td>77</td>\n      <td>2</td>\n      <td>1</td>\n      <td>2</td>\n      <td>...</td>\n      <td>1</td>\n      <td>1</td>\n      <td>2</td>\n      <td>2</td>\n      <td>2</td>\n      <td>2</td>\n      <td>2</td>\n      <td>3</td>\n      <td>2</td>\n      <td>0.0</td>\n    </tr>\n  </tbody>\n</table>\n<p>108273 rows × 21 columns</p>\n</div>"
     },
     "execution_count": 7,
     "metadata": {},
     "output_type": "execute_result"
    }
   ],
   "source": [
    "df.loc[(df['DATE_DIED'] != '9999-99-99'), 'CL'] = 1\n",
    "df.loc[(df['CL'] != 1), 'CL'] = 0\n",
    "df = df.drop('DATE_DIED', axis = 1)\n",
    "df"
   ]
  },
  {
   "cell_type": "markdown",
   "metadata": {
    "id": "454AvAoDMpWv",
    "pycharm": {
     "name": "#%% md\n"
    }
   },
   "source": [
    "Оценим соотношение классов"
   ]
  },
  {
   "cell_type": "code",
   "execution_count": 8,
   "metadata": {
    "colab": {
     "base_uri": "https://localhost:8080/"
    },
    "executionInfo": {
     "elapsed": 14,
     "status": "ok",
     "timestamp": 1669876570354,
     "user": {
      "displayName": "Илья Жаров",
      "userId": "13442611294234190725"
     },
     "user_tz": -180
    },
    "id": "MXdSa2-QMvpj",
    "outputId": "46eeda7e-ff28-47c4-feac-8602a80c34e4",
    "pycharm": {
     "name": "#%%\n"
    }
   },
   "outputs": [
    {
     "data": {
      "text/plain": "0.0    61072\n1.0    47201\nName: CL, dtype: int64"
     },
     "execution_count": 8,
     "metadata": {},
     "output_type": "execute_result"
    }
   ],
   "source": [
    "df['CL'].value_counts()"
   ]
  },
  {
   "cell_type": "markdown",
   "metadata": {
    "id": "m2HjsefRMztr",
    "pycharm": {
     "name": "#%% md\n"
    }
   },
   "source": [
    "Для наглядности построим гистограмму"
   ]
  },
  {
   "cell_type": "code",
   "execution_count": 9,
   "metadata": {
    "colab": {
     "base_uri": "https://localhost:8080/",
     "height": 279
    },
    "executionInfo": {
     "elapsed": 570,
     "status": "ok",
     "timestamp": 1669876570916,
     "user": {
      "displayName": "Илья Жаров",
      "userId": "13442611294234190725"
     },
     "user_tz": -180
    },
    "id": "5C9avn3mM3jx",
    "outputId": "4047e645-35ce-42d0-e4d3-cc7cf23e08d3",
    "pycharm": {
     "name": "#%%\n"
    }
   },
   "outputs": [],
   "source": [
    "# sns.countplot('CL', data=df);"
   ]
  },
  {
   "cell_type": "markdown",
   "metadata": {
    "id": "rJuojuznNMkh",
    "pycharm": {
     "name": "#%% md\n"
    }
   },
   "source": [
    "Посмотрим соотношение по классам для женщин и мужчин.\n",
    "\n",
    "Количественные показатели:\n",
    "\n",
    "1. Женщины\n",
    "\n",
    "2. Мужчины"
   ]
  },
  {
   "cell_type": "code",
   "execution_count": 10,
   "metadata": {
    "colab": {
     "base_uri": "https://localhost:8080/",
     "height": 279
    },
    "executionInfo": {
     "elapsed": 16,
     "status": "ok",
     "timestamp": 1669876570916,
     "user": {
      "displayName": "Илья Жаров",
      "userId": "13442611294234190725"
     },
     "user_tz": -180
    },
    "id": "eKNIA3KfNW-M",
    "outputId": "68e05f68-ad5c-4e74-de96-58f277ad4835",
    "pycharm": {
     "name": "#%%\n"
    }
   },
   "outputs": [],
   "source": [
    "# sns.countplot('SEX',hue='CL',data=df);"
   ]
  },
  {
   "cell_type": "markdown",
   "metadata": {
    "id": "5QmzaLSENy30",
    "pycharm": {
     "name": "#%% md\n"
    }
   },
   "source": [
    "Проанализируем возраст"
   ]
  },
  {
   "cell_type": "code",
   "execution_count": 11,
   "metadata": {
    "colab": {
     "base_uri": "https://localhost:8080/"
    },
    "executionInfo": {
     "elapsed": 16,
     "status": "ok",
     "timestamp": 1669876570917,
     "user": {
      "displayName": "Илья Жаров",
      "userId": "13442611294234190725"
     },
     "user_tz": -180
    },
    "id": "RdL-0M-ON2Uc",
    "outputId": "edaff7f8-2ea6-4e55-da6b-c3dbe18ff2e4",
    "pycharm": {
     "name": "#%%\n"
    }
   },
   "outputs": [
    {
     "data": {
      "text/plain": "count    108273.0\nmean         56.0\nstd          16.0\nmin           0.0\n25%          46.0\n50%          56.0\n75%          67.0\nmax         105.0\nName: AGE, dtype: float64"
     },
     "execution_count": 11,
     "metadata": {},
     "output_type": "execute_result"
    }
   ],
   "source": [
    "round(df['AGE'].describe(), 0)"
   ]
  },
  {
   "cell_type": "markdown",
   "metadata": {
    "id": "YIxArI2sOQoO",
    "pycharm": {
     "name": "#%% md\n"
    }
   },
   "source": [
    "Данные по 'AGE' показали аномалии максимального возраста 120 год.\n",
    "Посмотрим подробнее."
   ]
  },
  {
   "cell_type": "code",
   "execution_count": 12,
   "metadata": {
    "colab": {
     "base_uri": "https://localhost:8080/"
    },
    "executionInfo": {
     "elapsed": 10,
     "status": "ok",
     "timestamp": 1669876570917,
     "user": {
      "displayName": "Илья Жаров",
      "userId": "13442611294234190725"
     },
     "user_tz": -180
    },
    "id": "jILwH6SfOUog",
    "outputId": "76ceb29e-6f7a-4d97-976f-3c10e26051a1",
    "pycharm": {
     "name": "#%%\n"
    }
   },
   "outputs": [
    {
     "data": {
      "text/plain": "56     2875\n57     2728\n60     2709\n59     2696\n52     2690\n       ... \n100      17\n99       12\n101       5\n103       3\n105       1\nName: AGE, Length: 104, dtype: int64"
     },
     "execution_count": 12,
     "metadata": {},
     "output_type": "execute_result"
    }
   ],
   "source": [
    "df['AGE'].value_counts()"
   ]
  },
  {
   "cell_type": "code",
   "execution_count": 13,
   "metadata": {
    "colab": {
     "base_uri": "https://localhost:8080/",
     "height": 556
    },
    "executionInfo": {
     "elapsed": 494,
     "status": "ok",
     "timestamp": 1669876571406,
     "user": {
      "displayName": "Илья Жаров",
      "userId": "13442611294234190725"
     },
     "user_tz": -180
    },
    "id": "P6eqPPn-Odz_",
    "outputId": "75ccb9dc-2e72-4cd8-d8b5-6231f61b5385",
    "pycharm": {
     "name": "#%%\n"
    }
   },
   "outputs": [
    {
     "data": {
      "text/plain": "<Figure size 2000x1000 with 2 Axes>",
      "image/png": "[encoded data removed]"
     },
     "metadata": {},
     "output_type": "display_data"
    }
   ],
   "source": [
    "_, ax = plt.subplots(1, 2, figsize=(20, 10))\n",
    "df[df['CL'] == 0]['AGE'].plot.hist(ax=ax[0], edgecolor='black', color='green', bins=20)\n",
    "ax[0].set_title('Выздоровели')\n",
    "x1 = list(range(0, 130, 5))\n",
    "ax[0].set_xticks(x1)\n",
    "df[df['CL'] == 1]['AGE'].plot.hist(ax=ax[1],color='blue',edgecolor='black', bins=20)\n",
    "ax[1].set_title('Умерли')\n",
    "x2 = list(range(0, 130, 5))\n",
    "ax[1].set_xticks(x2)\n",
    "plt.show()"
   ]
  },
  {
   "cell_type": "markdown",
   "metadata": {
    "id": "VdyJ_O_BRtjA",
    "pycharm": {
     "name": "#%% md\n"
    }
   },
   "source": [
    "Анализ показал что данные содержат неколько значений возраста превышающие 95 лет. Их доля не велика. Кроме того допускаем тот факт что среди пациентов могли быть долгожители. Объеденим их в одну группу 95. Так же как и пациенты с возрастом равным 0 - это младенцы."
   ]
  },
  {
   "cell_type": "code",
   "execution_count": 14,
   "metadata": {
    "id": "gMnTWp0yRz_j",
    "pycharm": {
     "name": "#%%\n"
    }
   },
   "outputs": [],
   "source": [
    "df.AGE = df.AGE.apply(lambda x: x if x < 95 else 95)"
   ]
  },
  {
   "cell_type": "code",
   "execution_count": 15,
   "metadata": {
    "colab": {
     "base_uri": "https://localhost:8080/"
    },
    "executionInfo": {
     "elapsed": 23,
     "status": "ok",
     "timestamp": 1669876571407,
     "user": {
      "displayName": "Илья Жаров",
      "userId": "13442611294234190725"
     },
     "user_tz": -180
    },
    "id": "IuP6PNFvR4BC",
    "outputId": "e57a5df3-a396-4da2-8e8b-aa904511a801",
    "pycharm": {
     "name": "#%%\n"
    }
   },
   "outputs": [
    {
     "data": {
      "text/plain": "56    2875\n57    2728\n60    2709\n59    2696\n52    2690\n      ... \n12      40\n7       39\n6       38\n10      38\n9       34\nName: AGE, Length: 96, dtype: int64"
     },
     "execution_count": 15,
     "metadata": {},
     "output_type": "execute_result"
    }
   ],
   "source": [
    "df['AGE'].value_counts()"
   ]
  },
  {
   "cell_type": "markdown",
   "source": [
    "Проанализируем показатель 'PREGNANT' (беременность)."
   ],
   "metadata": {
    "id": "H1MQSZUKCj4r",
    "pycharm": {
     "name": "#%% md\n"
    }
   }
  },
  {
   "cell_type": "code",
   "execution_count": 16,
   "metadata": {
    "colab": {
     "base_uri": "https://localhost:8080/"
    },
    "executionInfo": {
     "elapsed": 16,
     "status": "ok",
     "timestamp": 1669876571407,
     "user": {
      "displayName": "Илья Жаров",
      "userId": "13442611294234190725"
     },
     "user_tz": -180
    },
    "id": "bD9HLsQZSAO2",
    "outputId": "f23e8d79-d996-4220-afa7-51c0f5b48bb7",
    "pycharm": {
     "name": "#%%\n"
    }
   },
   "outputs": [
    {
     "data": {
      "text/plain": "97    66830\n2     40644\n1       686\n98      113\nName: PREGNANT, dtype: int64"
     },
     "execution_count": 16,
     "metadata": {},
     "output_type": "execute_result"
    }
   ],
   "source": [
    "df['PREGNANT'].value_counts()"
   ]
  },
  {
   "cell_type": "markdown",
   "metadata": {
    "id": "O6Fhya7LTG87",
    "pycharm": {
     "name": "#%% md\n"
    }
   },
   "source": [
    "Данные показывают: \n",
    "\n",
    "\"97\" - мужчины\n",
    "\n",
    "\"2\" - не беременные женщины\n",
    "\n",
    "\"1\" - беременные женщины\n",
    "\n",
    "\"98\" - женщины, статус беременнсти которых неопределен"
   ]
  },
  {
   "cell_type": "markdown",
   "metadata": {
    "id": "8373yaQXU0nk",
    "pycharm": {
     "name": "#%% md\n"
    }
   },
   "source": [
    "Уберем строки со значением \"98\" и заменим значение \"97\" на значение \"3\""
   ]
  },
  {
   "cell_type": "code",
   "execution_count": 17,
   "metadata": {
    "id": "vcNVobeVU8mP",
    "pycharm": {
     "name": "#%%\n"
    }
   },
   "outputs": [],
   "source": [
    "df = df.loc[(df.PREGNANT == 1) | (df.PREGNANT == 2) | (df.PREGNANT == 97)]"
   ]
  },
  {
   "cell_type": "code",
   "execution_count": 18,
   "metadata": {
    "id": "nIpnDtX_Wl8u",
    "pycharm": {
     "name": "#%%\n"
    }
   },
   "outputs": [],
   "source": [
    "df.PREGNANT = df.PREGNANT.apply(lambda x: 3 if x == 97 else x)"
   ]
  },
  {
   "cell_type": "code",
   "execution_count": 19,
   "metadata": {
    "colab": {
     "base_uri": "https://localhost:8080/"
    },
    "executionInfo": {
     "elapsed": 18,
     "status": "ok",
     "timestamp": 1669876572571,
     "user": {
      "displayName": "Илья Жаров",
      "userId": "13442611294234190725"
     },
     "user_tz": -180
    },
    "id": "02bibst8WHgg",
    "outputId": "ec7718f3-c200-4986-8f09-45f7b6ee5ff5",
    "pycharm": {
     "name": "#%%\n"
    }
   },
   "outputs": [
    {
     "data": {
      "text/plain": "3    66830\n2    40644\n1      686\nName: PREGNANT, dtype: int64"
     },
     "execution_count": 19,
     "metadata": {},
     "output_type": "execute_result"
    }
   ],
   "source": [
    "df['PREGNANT'].value_counts()"
   ]
  },
  {
   "cell_type": "markdown",
   "metadata": {
    "id": "GVxxVkLqWuOp",
    "pycharm": {
     "name": "#%% md\n"
    }
   },
   "source": [
    "Посмотрим на распределение по медецинским учереждениям"
   ]
  },
  {
   "cell_type": "code",
   "execution_count": 20,
   "metadata": {
    "colab": {
     "base_uri": "https://localhost:8080/",
     "height": 483
    },
    "executionInfo": {
     "elapsed": 16,
     "status": "ok",
     "timestamp": 1669876572572,
     "user": {
      "displayName": "Илья Жаров",
      "userId": "13442611294234190725"
     },
     "user_tz": -180
    },
    "id": "uljWz6OmWzHa",
    "outputId": "1cf40f56-5a6f-4b17-ad44-fff8060c63d2",
    "pycharm": {
     "name": "#%%\n"
    }
   },
   "outputs": [
    {
     "data": {
      "text/plain": "<pandas.io.formats.style.Styler at 0x28fa770d0>",
      "text/html": "<style type=\"text/css\">\n#T_22a7d_row0_col0, #T_22a7d_row0_col1, #T_22a7d_row1_col0, #T_22a7d_row1_col1, #T_22a7d_row6_col1, #T_22a7d_row12_col0, #T_22a7d_row12_col1 {\n  background-color: #fff7fb;\n  color: #000000;\n}\n#T_22a7d_row2_col0 {\n  background-color: #f5eff6;\n  color: #000000;\n}\n#T_22a7d_row2_col1 {\n  background-color: #f9f2f8;\n  color: #000000;\n}\n#T_22a7d_row3_col0, #T_22a7d_row3_col1 {\n  background-color: #023858;\n  color: #f1f1f1;\n}\n#T_22a7d_row4_col0 {\n  background-color: #fcf4fa;\n  color: #000000;\n}\n#T_22a7d_row4_col1, #T_22a7d_row9_col1 {\n  background-color: #fdf5fa;\n  color: #000000;\n}\n#T_22a7d_row5_col0 {\n  background-color: #dedcec;\n  color: #000000;\n}\n#T_22a7d_row5_col1 {\n  background-color: #e8e4f0;\n  color: #000000;\n}\n#T_22a7d_row6_col0 {\n  background-color: #fef6fb;\n  color: #000000;\n}\n#T_22a7d_row7_col0, #T_22a7d_row9_col0 {\n  background-color: #f6eff7;\n  color: #000000;\n}\n#T_22a7d_row7_col1 {\n  background-color: #faf3f9;\n  color: #000000;\n}\n#T_22a7d_row8_col0 {\n  background-color: #ece7f2;\n  color: #000000;\n}\n#T_22a7d_row8_col1, #T_22a7d_row10_col0 {\n  background-color: #fbf3f9;\n  color: #000000;\n}\n#T_22a7d_row10_col1 {\n  background-color: #fef6fa;\n  color: #000000;\n}\n#T_22a7d_row11_col0 {\n  background-color: #04629a;\n  color: #f1f1f1;\n}\n#T_22a7d_row11_col1 {\n  background-color: #3790c0;\n  color: #f1f1f1;\n}\n</style>\n<table id=\"T_22a7d\">\n  <thead>\n    <tr>\n      <th class=\"index_name level0\" >CL</th>\n      <th id=\"T_22a7d_level0_col0\" class=\"col_heading level0 col0\" >0.000000</th>\n      <th id=\"T_22a7d_level0_col1\" class=\"col_heading level0 col1\" >1.000000</th>\n    </tr>\n    <tr>\n      <th class=\"index_name level0\" >MEDICAL_UNIT</th>\n      <th class=\"blank col0\" >&nbsp;</th>\n      <th class=\"blank col1\" >&nbsp;</th>\n    </tr>\n  </thead>\n  <tbody>\n    <tr>\n      <th id=\"T_22a7d_level0_row0\" class=\"row_heading level0 row0\" >1</th>\n      <td id=\"T_22a7d_row0_col0\" class=\"data row0 col0\" >9</td>\n      <td id=\"T_22a7d_row0_col1\" class=\"data row0 col1\" >1</td>\n    </tr>\n    <tr>\n      <th id=\"T_22a7d_level0_row1\" class=\"row_heading level0 row1\" >2</th>\n      <td id=\"T_22a7d_row1_col0\" class=\"data row1 col0\" >5</td>\n      <td id=\"T_22a7d_row1_col1\" class=\"data row1 col1\" >0</td>\n    </tr>\n    <tr>\n      <th id=\"T_22a7d_level0_row2\" class=\"row_heading level0 row2\" >3</th>\n      <td id=\"T_22a7d_row2_col0\" class=\"data row2 col0\" >1657</td>\n      <td id=\"T_22a7d_row2_col1\" class=\"data row2 col1\" >987</td>\n    </tr>\n    <tr>\n      <th id=\"T_22a7d_level0_row3\" class=\"row_heading level0 row3\" >4</th>\n      <td id=\"T_22a7d_row3_col0\" class=\"data row3 col0\" >25591</td>\n      <td id=\"T_22a7d_row3_col1\" class=\"data row3 col1\" >24614</td>\n    </tr>\n    <tr>\n      <th id=\"T_22a7d_level0_row4\" class=\"row_heading level0 row4\" >5</th>\n      <td id=\"T_22a7d_row4_col0\" class=\"data row4 col0\" >571</td>\n      <td id=\"T_22a7d_row4_col1\" class=\"data row4 col1\" >375</td>\n    </tr>\n    <tr>\n      <th id=\"T_22a7d_level0_row5\" class=\"row_heading level0 row5\" >6</th>\n      <td id=\"T_22a7d_row5_col0\" class=\"data row5 col0\" >4890</td>\n      <td id=\"T_22a7d_row5_col1\" class=\"data row5 col1\" >3504</td>\n    </tr>\n    <tr>\n      <th id=\"T_22a7d_level0_row6\" class=\"row_heading level0 row6\" >7</th>\n      <td id=\"T_22a7d_row6_col0\" class=\"data row6 col0\" >134</td>\n      <td id=\"T_22a7d_row6_col1\" class=\"data row6 col1\" >24</td>\n    </tr>\n    <tr>\n      <th id=\"T_22a7d_level0_row7\" class=\"row_heading level0 row7\" >8</th>\n      <td id=\"T_22a7d_row7_col0\" class=\"data row7 col0\" >1516</td>\n      <td id=\"T_22a7d_row7_col1\" class=\"data row7 col1\" >853</td>\n    </tr>\n    <tr>\n      <th id=\"T_22a7d_level0_row8\" class=\"row_heading level0 row8\" >9</th>\n      <td id=\"T_22a7d_row8_col0\" class=\"data row8 col0\" >3219</td>\n      <td id=\"T_22a7d_row8_col1\" class=\"data row8 col1\" >739</td>\n    </tr>\n    <tr>\n      <th id=\"T_22a7d_level0_row9\" class=\"row_heading level0 row9\" >10</th>\n      <td id=\"T_22a7d_row9_col0\" class=\"data row9 col0\" >1532</td>\n      <td id=\"T_22a7d_row9_col1\" class=\"data row9 col1\" >402</td>\n    </tr>\n    <tr>\n      <th id=\"T_22a7d_level0_row10\" class=\"row_heading level0 row10\" >11</th>\n      <td id=\"T_22a7d_row10_col0\" class=\"data row10 col0\" >719</td>\n      <td id=\"T_22a7d_row10_col1\" class=\"data row10 col1\" >269</td>\n    </tr>\n    <tr>\n      <th id=\"T_22a7d_level0_row11\" class=\"row_heading level0 row11\" >12</th>\n      <td id=\"T_22a7d_row11_col0\" class=\"data row11 col0\" >21094</td>\n      <td id=\"T_22a7d_row11_col1\" class=\"data row11 col1\" >15363</td>\n    </tr>\n    <tr>\n      <th id=\"T_22a7d_level0_row12\" class=\"row_heading level0 row12\" >13</th>\n      <td id=\"T_22a7d_row12_col0\" class=\"data row12 col0\" >57</td>\n      <td id=\"T_22a7d_row12_col1\" class=\"data row12 col1\" >35</td>\n    </tr>\n  </tbody>\n</table>\n"
     },
     "execution_count": 20,
     "metadata": {},
     "output_type": "execute_result"
    }
   ],
   "source": [
    "pd.crosstab(df['MEDICAL_UNIT'], df['CL']).style.background_gradient()"
   ]
  },
  {
   "cell_type": "markdown",
   "metadata": {
    "id": "beQ_aZheW6dR",
    "pycharm": {
     "name": "#%% md\n"
    }
   },
   "source": [
    "Распределение по медецинским учереждениям не информативна. \n",
    "\n",
    "По-этому в дальнейшем не будем учитывать данный параметр."
   ]
  },
  {
   "cell_type": "code",
   "execution_count": 21,
   "metadata": {
    "id": "kguSHGufQuQM",
    "pycharm": {
     "name": "#%%\n"
    }
   },
   "outputs": [],
   "source": [
    "df = df.drop(['MEDICAL_UNIT'], axis=1)"
   ]
  },
  {
   "cell_type": "code",
   "execution_count": 22,
   "metadata": {
    "colab": {
     "base_uri": "https://localhost:8080/",
     "height": 483
    },
    "executionInfo": {
     "elapsed": 14,
     "status": "ok",
     "timestamp": 1669876572572,
     "user": {
      "displayName": "Илья Жаров",
      "userId": "13442611294234190725"
     },
     "user_tz": -180
    },
    "id": "PLuHepD-VVOt",
    "outputId": "b7a151ee-61bd-43fe-ff27-2b45478deb2d",
    "pycharm": {
     "name": "#%%\n"
    }
   },
   "outputs": [
    {
     "data": {
      "text/plain": "         USMER  SEX  PATIENT_TYPE  INTUBED  PNEUMONIA  AGE  PREGNANT  \\\n2            2    2             2        1          2   55         3   \n5            2    1             2        2          1   40         2   \n8            2    1             2        2          2   37         2   \n9            2    1             2        2          2   25         2   \n11           2    2             2        2          2   24         3   \n...        ...  ...           ...      ...        ...  ...       ...   \n1047913      1    2             2        2          2   54         3   \n1047919      1    2             2        2          2   62         3   \n1047928      1    1             2        2          2   47         2   \n1047929      1    2             2        2          2   72         3   \n1047933      1    1             2        2          2   77         2   \n\n         DIABETES  COPD  ASTHMA  INMSUPR  HIPERTENSION  OTHER_DISEASE  \\\n2               1     2       2        2             2              2   \n5               2     2       2        2             2              2   \n8               1     2       2        2             1              2   \n9               2     2       2        2             2              2   \n11              2     2       2        2             2              2   \n...           ...   ...     ...      ...           ...            ...   \n1047913         1     2       2        2             2              2   \n1047919         2     2       2        2             2              2   \n1047928         1     2       2        2             2              2   \n1047929         1     2       2        2             2              2   \n1047933         1     2       2        1             1              2   \n\n         CARDIOVASCULAR  OBESITY  RENAL_CHRONIC  TOBACCO  \\\n2                     2        2              2        2   \n5                     2        2              2        2   \n8                     2        1              2        2   \n9                     2        2              2        2   \n11                    2        2              2        2   \n...                 ...      ...            ...      ...   \n1047913               2        2              2        2   \n1047919               2        2              2        2   \n1047928               2        2              2        2   \n1047929               1        1              2        2   \n1047933               2        2              2        2   \n\n         CLASIFFICATION_FINAL  ICU   CL  \n2                           3    2  1.0  \n5                           3    2  0.0  \n8                           3    2  0.0  \n9                           3    2  0.0  \n11                          3    2  0.0  \n...                       ...  ...  ...  \n1047913                     3    2  0.0  \n1047919                     3    2  0.0  \n1047928                     3    2  0.0  \n1047929                     3    2  0.0  \n1047933                     3    2  0.0  \n\n[108160 rows x 20 columns]",
      "text/html": "<div>\n<style scoped>\n    .dataframe tbody tr th:only-of-type {\n        vertical-align: middle;\n    }\n\n    .dataframe tbody tr th {\n        vertical-align: top;\n    }\n\n    .dataframe thead th {\n        text-align: right;\n    }\n</style>\n<table border=\"1\" class=\"dataframe\">\n  <thead>\n    <tr style=\"text-align: right;\">\n      <th></th>\n      <th>USMER</th>\n      <th>SEX</th>\n      <th>PATIENT_TYPE</th>\n      <th>INTUBED</th>\n      <th>PNEUMONIA</th>\n      <th>AGE</th>\n      <th>PREGNANT</th>\n      <th>DIABETES</th>\n      <th>COPD</th>\n      <th>ASTHMA</th>\n      <th>INMSUPR</th>\n      <th>HIPERTENSION</th>\n      <th>OTHER_DISEASE</th>\n      <th>CARDIOVASCULAR</th>\n      <th>OBESITY</th>\n      <th>RENAL_CHRONIC</th>\n      <th>TOBACCO</th>\n      <th>CLASIFFICATION_FINAL</th>\n      <th>ICU</th>\n      <th>CL</th>\n    </tr>\n  </thead>\n  <tbody>\n    <tr>\n      <th>2</th>\n      <td>2</td>\n      <td>2</td>\n      <td>2</td>\n      <td>1</td>\n      <td>2</td>\n      <td>55</td>\n      <td>3</td>\n      <td>1</td>\n      <td>2</td>\n      <td>2</td>\n      <td>2</td>\n      <td>2</td>\n      <td>2</td>\n      <td>2</td>\n      <td>2</td>\n      <td>2</td>\n      <td>2</td>\n      <td>3</td>\n      <td>2</td>\n      <td>1.0</td>\n    </tr>\n    <tr>\n      <th>5</th>\n      <td>2</td>\n      <td>1</td>\n      <td>2</td>\n      <td>2</td>\n      <td>1</td>\n      <td>40</td>\n      <td>2</td>\n      <td>2</td>\n      <td>2</td>\n      <td>2</td>\n      <td>2</td>\n      <td>2</td>\n      <td>2</td>\n      <td>2</td>\n      <td>2</td>\n      <td>2</td>\n      <td>2</td>\n      <td>3</td>\n      <td>2</td>\n      <td>0.0</td>\n    </tr>\n    <tr>\n      <th>8</th>\n      <td>2</td>\n      <td>1</td>\n      <td>2</td>\n      <td>2</td>\n      <td>2</td>\n      <td>37</td>\n      <td>2</td>\n      <td>1</td>\n      <td>2</td>\n      <td>2</td>\n      <td>2</td>\n      <td>1</td>\n      <td>2</td>\n      <td>2</td>\n      <td>1</td>\n      <td>2</td>\n      <td>2</td>\n      <td>3</td>\n      <td>2</td>\n      <td>0.0</td>\n    </tr>\n    <tr>\n      <th>9</th>\n      <td>2</td>\n      <td>1</td>\n      <td>2</td>\n      <td>2</td>\n      <td>2</td>\n      <td>25</td>\n      <td>2</td>\n      <td>2</td>\n      <td>2</td>\n      <td>2</td>\n      <td>2</td>\n      <td>2</td>\n      <td>2</td>\n      <td>2</td>\n      <td>2</td>\n      <td>2</td>\n      <td>2</td>\n      <td>3</td>\n      <td>2</td>\n      <td>0.0</td>\n    </tr>\n    <tr>\n      <th>11</th>\n      <td>2</td>\n      <td>2</td>\n      <td>2</td>\n      <td>2</td>\n      <td>2</td>\n      <td>24</td>\n      <td>3</td>\n      <td>2</td>\n      <td>2</td>\n      <td>2</td>\n      <td>2</td>\n      <td>2</td>\n      <td>2</td>\n      <td>2</td>\n      <td>2</td>\n      <td>2</td>\n      <td>2</td>\n      <td>3</td>\n      <td>2</td>\n      <td>0.0</td>\n    </tr>\n    <tr>\n      <th>...</th>\n      <td>...</td>\n      <td>...</td>\n      <td>...</td>\n      <td>...</td>\n      <td>...</td>\n      <td>...</td>\n      <td>...</td>\n      <td>...</td>\n      <td>...</td>\n      <td>...</td>\n      <td>...</td>\n      <td>...</td>\n      <td>...</td>\n      <td>...</td>\n      <td>...</td>\n      <td>...</td>\n      <td>...</td>\n      <td>...</td>\n      <td>...</td>\n      <td>...</td>\n    </tr>\n    <tr>\n      <th>1047913</th>\n      <td>1</td>\n      <td>2</td>\n      <td>2</td>\n      <td>2</td>\n      <td>2</td>\n      <td>54</td>\n      <td>3</td>\n      <td>1</td>\n      <td>2</td>\n      <td>2</td>\n      <td>2</td>\n      <td>2</td>\n      <td>2</td>\n      <td>2</td>\n      <td>2</td>\n      <td>2</td>\n      <td>2</td>\n      <td>3</td>\n      <td>2</td>\n      <td>0.0</td>\n    </tr>\n    <tr>\n      <th>1047919</th>\n      <td>1</td>\n      <td>2</td>\n      <td>2</td>\n      <td>2</td>\n      <td>2</td>\n      <td>62</td>\n      <td>3</td>\n      <td>2</td>\n      <td>2</td>\n      <td>2</td>\n      <td>2</td>\n      <td>2</td>\n      <td>2</td>\n      <td>2</td>\n      <td>2</td>\n      <td>2</td>\n      <td>2</td>\n      <td>3</td>\n      <td>2</td>\n      <td>0.0</td>\n    </tr>\n    <tr>\n      <th>1047928</th>\n      <td>1</td>\n      <td>1</td>\n      <td>2</td>\n      <td>2</td>\n      <td>2</td>\n      <td>47</td>\n      <td>2</td>\n      <td>1</td>\n      <td>2</td>\n      <td>2</td>\n      <td>2</td>\n      <td>2</td>\n      <td>2</td>\n      <td>2</td>\n      <td>2</td>\n      <td>2</td>\n      <td>2</td>\n      <td>3</td>\n      <td>2</td>\n      <td>0.0</td>\n    </tr>\n    <tr>\n      <th>1047929</th>\n      <td>1</td>\n      <td>2</td>\n      <td>2</td>\n      <td>2</td>\n      <td>2</td>\n      <td>72</td>\n      <td>3</td>\n      <td>1</td>\n      <td>2</td>\n      <td>2</td>\n      <td>2</td>\n      <td>2</td>\n      <td>2</td>\n      <td>1</td>\n      <td>1</td>\n      <td>2</td>\n      <td>2</td>\n      <td>3</td>\n      <td>2</td>\n      <td>0.0</td>\n    </tr>\n    <tr>\n      <th>1047933</th>\n      <td>1</td>\n      <td>1</td>\n      <td>2</td>\n      <td>2</td>\n      <td>2</td>\n      <td>77</td>\n      <td>2</td>\n      <td>1</td>\n      <td>2</td>\n      <td>2</td>\n      <td>1</td>\n      <td>1</td>\n      <td>2</td>\n      <td>2</td>\n      <td>2</td>\n      <td>2</td>\n      <td>2</td>\n      <td>3</td>\n      <td>2</td>\n      <td>0.0</td>\n    </tr>\n  </tbody>\n</table>\n<p>108160 rows × 20 columns</p>\n</div>"
     },
     "execution_count": 22,
     "metadata": {},
     "output_type": "execute_result"
    }
   ],
   "source": [
    "df"
   ]
  },
  {
   "cell_type": "markdown",
   "metadata": {
    "id": "J4b67UofYOeG",
    "pycharm": {
     "name": "#%% md\n"
    }
   },
   "source": [
    "Обучение"
   ]
  },
  {
   "cell_type": "markdown",
   "metadata": {
    "id": "3QYkjw8fYb5y",
    "pycharm": {
     "name": "#%% md\n"
    }
   },
   "source": [
    "Разделим Предикторы и Отклики.\n",
    "\n",
    "X - Предикторы\n",
    "\n",
    "y - Отклики"
   ]
  },
  {
   "cell_type": "code",
   "execution_count": 23,
   "metadata": {
    "id": "PO2rKPNbYo9t",
    "pycharm": {
     "name": "#%%\n"
    }
   },
   "outputs": [],
   "source": [
    "X = df.drop(['CL'], axis=1)\n",
    "y = df['CL']"
   ]
  },
  {
   "cell_type": "markdown",
   "metadata": {
    "id": "NHLuTN7qYSbO",
    "pycharm": {
     "name": "#%% md\n"
    }
   },
   "source": [
    "Разделим данные на тренировочные и тестовые.\n",
    "\n",
    "70% - тренеровочные\n",
    "\n",
    "30% - тестовые"
   ]
  },
  {
   "cell_type": "code",
   "execution_count": 24,
   "metadata": {
    "id": "ffmWJW1gYRFD",
    "pycharm": {
     "name": "#%%\n"
    }
   },
   "outputs": [],
   "source": [
    "from sklearn.model_selection import train_test_split\n",
    "\n",
    "X_train, X_test, y_train, y_test = train_test_split(X, y, test_size = 0.3, random_state=99)"
   ]
  },
  {
   "cell_type": "markdown",
   "metadata": {
    "id": "kYGA4t7ZYzEC",
    "pycharm": {
     "name": "#%% md\n"
    }
   },
   "source": [
    "Все данные имеют числовой тип. В нашем случае числовой тип необходим только предиктору ‘AGE’ (возраст) и отклику ‘CL’.\n",
    "\n",
    "Остальные данные переведем в категориийные."
   ]
  },
  {
   "cell_type": "code",
   "execution_count": 25,
   "metadata": {
    "id": "5_r_chKjeB-v",
    "pycharm": {
     "name": "#%%\n"
    }
   },
   "outputs": [],
   "source": [
    "num_df = ['AGE']"
   ]
  },
  {
   "cell_type": "code",
   "execution_count": 26,
   "metadata": {
    "id": "YOv7z4o3eG6E",
    "pycharm": {
     "name": "#%%\n"
    }
   },
   "outputs": [],
   "source": [
    "cat_df = ['USMER', 'SEX', 'PATIENT_TYPE', 'INTUBED', 'PNEUMONIA', 'PREGNANT',\t'DIABETES', 'COPD', 'ASTHMA', 'INMSUPR', 'HIPERTENSION', 'OTHER_DISEASE', 'CARDIOVASCULAR', 'OBESITY', 'RENAL_CHRONIC', 'TOBACCO', 'CLASIFFICATION_FINAL', 'ICU']"
   ]
  },
  {
   "cell_type": "code",
   "execution_count": 27,
   "metadata": {
    "id": "5TzN3qeBgHBZ",
    "pycharm": {
     "name": "#%%\n"
    }
   },
   "outputs": [],
   "source": [
    "features = num_df + cat_df"
   ]
  },
  {
   "cell_type": "code",
   "execution_count": 28,
   "metadata": {
    "colab": {
     "base_uri": "https://localhost:8080/",
     "height": 483
    },
    "executionInfo": {
     "elapsed": 13,
     "status": "ok",
     "timestamp": 1669876572574,
     "user": {
      "displayName": "Илья Жаров",
      "userId": "13442611294234190725"
     },
     "user_tz": -180
    },
    "id": "XaKBPk4GgOJo",
    "outputId": "a0602468-e459-4546-a00b-a2397384fb03",
    "pycharm": {
     "name": "#%%\n"
    }
   },
   "outputs": [
    {
     "data": {
      "text/plain": "        AGE  USMER  SEX  PATIENT_TYPE  INTUBED  PNEUMONIA  PREGNANT  DIABETES  \\\n625632   72      2    2             2        2          2         3         2   \n1587      6      1    2             2        1          1         3         2   \n21491    55      1    2             2        1          2         3         1   \n40870    73      1    2             2        1          2         3         1   \n56848    71      2    1             2        1          2         2         2   \n...     ...    ...  ...           ...      ...        ...       ...       ...   \n573063   37      1    1             2        2          1         2         1   \n91278    60      1    2             2        2          2         3         2   \n129855   35      2    2             2        2          2         3         2   \n54031    62      1    2             2        2          2         3         1   \n65890    52      1    1             2        2          1         2         1   \n\n        COPD  ASTHMA  INMSUPR  HIPERTENSION  OTHER_DISEASE  CARDIOVASCULAR  \\\n625632     2       2        2             2              2               2   \n1587       2       2        2             2              2               2   \n21491      2       2        2             1              2               2   \n40870      2       2        2             1              2               2   \n56848      2       2        2             1              2               2   \n...      ...     ...      ...           ...            ...             ...   \n573063     2       2        2             2              2               2   \n91278      2       2        2             2              2               1   \n129855     2       2        2             2              2               2   \n54031      1       2        2             1              2               2   \n65890      2       2        2             2              2               2   \n\n        OBESITY  RENAL_CHRONIC  TOBACCO  CLASIFFICATION_FINAL  ICU  \n625632        2              2        2                     3    2  \n1587          2              2        2                     3    1  \n21491         2              2        2                     3    2  \n40870         2              2        1                     3    2  \n56848         2              2        2                     3    2  \n...         ...            ...      ...                   ...  ...  \n573063        1              2        2                     3    2  \n91278         1              1        2                     3    2  \n129855        2              2        2                     3    2  \n54031         2              2        2                     3    2  \n65890         1              2        2                     3    2  \n\n[75712 rows x 19 columns]",
      "text/html": "<div>\n<style scoped>\n    .dataframe tbody tr th:only-of-type {\n        vertical-align: middle;\n    }\n\n    .dataframe tbody tr th {\n        vertical-align: top;\n    }\n\n    .dataframe thead th {\n        text-align: right;\n    }\n</style>\n<table border=\"1\" class=\"dataframe\">\n  <thead>\n    <tr style=\"text-align: right;\">\n      <th></th>\n      <th>AGE</th>\n      <th>USMER</th>\n      <th>SEX</th>\n      <th>PATIENT_TYPE</th>\n      <th>INTUBED</th>\n      <th>PNEUMONIA</th>\n      <th>PREGNANT</th>\n      <th>DIABETES</th>\n      <th>COPD</th>\n      <th>ASTHMA</th>\n      <th>INMSUPR</th>\n      <th>HIPERTENSION</th>\n      <th>OTHER_DISEASE</th>\n      <th>CARDIOVASCULAR</th>\n      <th>OBESITY</th>\n      <th>RENAL_CHRONIC</th>\n      <th>TOBACCO</th>\n      <th>CLASIFFICATION_FINAL</th>\n      <th>ICU</th>\n    </tr>\n  </thead>\n  <tbody>\n    <tr>\n      <th>625632</th>\n      <td>72</td>\n      <td>2</td>\n      <td>2</td>\n      <td>2</td>\n      <td>2</td>\n      <td>2</td>\n      <td>3</td>\n      <td>2</td>\n      <td>2</td>\n      <td>2</td>\n      <td>2</td>\n      <td>2</td>\n      <td>2</td>\n      <td>2</td>\n      <td>2</td>\n      <td>2</td>\n      <td>2</td>\n      <td>3</td>\n      <td>2</td>\n    </tr>\n    <tr>\n      <th>1587</th>\n      <td>6</td>\n      <td>1</td>\n      <td>2</td>\n      <td>2</td>\n      <td>1</td>\n      <td>1</td>\n      <td>3</td>\n      <td>2</td>\n      <td>2</td>\n      <td>2</td>\n      <td>2</td>\n      <td>2</td>\n      <td>2</td>\n      <td>2</td>\n      <td>2</td>\n      <td>2</td>\n      <td>2</td>\n      <td>3</td>\n      <td>1</td>\n    </tr>\n    <tr>\n      <th>21491</th>\n      <td>55</td>\n      <td>1</td>\n      <td>2</td>\n      <td>2</td>\n      <td>1</td>\n      <td>2</td>\n      <td>3</td>\n      <td>1</td>\n      <td>2</td>\n      <td>2</td>\n      <td>2</td>\n      <td>1</td>\n      <td>2</td>\n      <td>2</td>\n      <td>2</td>\n      <td>2</td>\n      <td>2</td>\n      <td>3</td>\n      <td>2</td>\n    </tr>\n    <tr>\n      <th>40870</th>\n      <td>73</td>\n      <td>1</td>\n      <td>2</td>\n      <td>2</td>\n      <td>1</td>\n      <td>2</td>\n      <td>3</td>\n      <td>1</td>\n      <td>2</td>\n      <td>2</td>\n      <td>2</td>\n      <td>1</td>\n      <td>2</td>\n      <td>2</td>\n      <td>2</td>\n      <td>2</td>\n      <td>1</td>\n      <td>3</td>\n      <td>2</td>\n    </tr>\n    <tr>\n      <th>56848</th>\n      <td>71</td>\n      <td>2</td>\n      <td>1</td>\n      <td>2</td>\n      <td>1</td>\n      <td>2</td>\n      <td>2</td>\n      <td>2</td>\n      <td>2</td>\n      <td>2</td>\n      <td>2</td>\n      <td>1</td>\n      <td>2</td>\n      <td>2</td>\n      <td>2</td>\n      <td>2</td>\n      <td>2</td>\n      <td>3</td>\n      <td>2</td>\n    </tr>\n    <tr>\n      <th>...</th>\n      <td>...</td>\n      <td>...</td>\n      <td>...</td>\n      <td>...</td>\n      <td>...</td>\n      <td>...</td>\n      <td>...</td>\n      <td>...</td>\n      <td>...</td>\n      <td>...</td>\n      <td>...</td>\n      <td>...</td>\n      <td>...</td>\n      <td>...</td>\n      <td>...</td>\n      <td>...</td>\n      <td>...</td>\n      <td>...</td>\n      <td>...</td>\n    </tr>\n    <tr>\n      <th>573063</th>\n      <td>37</td>\n      <td>1</td>\n      <td>1</td>\n      <td>2</td>\n      <td>2</td>\n      <td>1</td>\n      <td>2</td>\n      <td>1</td>\n      <td>2</td>\n      <td>2</td>\n      <td>2</td>\n      <td>2</td>\n      <td>2</td>\n      <td>2</td>\n      <td>1</td>\n      <td>2</td>\n      <td>2</td>\n      <td>3</td>\n      <td>2</td>\n    </tr>\n    <tr>\n      <th>91278</th>\n      <td>60</td>\n      <td>1</td>\n      <td>2</td>\n      <td>2</td>\n      <td>2</td>\n      <td>2</td>\n      <td>3</td>\n      <td>2</td>\n      <td>2</td>\n      <td>2</td>\n      <td>2</td>\n      <td>2</td>\n      <td>2</td>\n      <td>1</td>\n      <td>1</td>\n      <td>1</td>\n      <td>2</td>\n      <td>3</td>\n      <td>2</td>\n    </tr>\n    <tr>\n      <th>129855</th>\n      <td>35</td>\n      <td>2</td>\n      <td>2</td>\n      <td>2</td>\n      <td>2</td>\n      <td>2</td>\n      <td>3</td>\n      <td>2</td>\n      <td>2</td>\n      <td>2</td>\n      <td>2</td>\n      <td>2</td>\n      <td>2</td>\n      <td>2</td>\n      <td>2</td>\n      <td>2</td>\n      <td>2</td>\n      <td>3</td>\n      <td>2</td>\n    </tr>\n    <tr>\n      <th>54031</th>\n      <td>62</td>\n      <td>1</td>\n      <td>2</td>\n      <td>2</td>\n      <td>2</td>\n      <td>2</td>\n      <td>3</td>\n      <td>1</td>\n      <td>1</td>\n      <td>2</td>\n      <td>2</td>\n      <td>1</td>\n      <td>2</td>\n      <td>2</td>\n      <td>2</td>\n      <td>2</td>\n      <td>2</td>\n      <td>3</td>\n      <td>2</td>\n    </tr>\n    <tr>\n      <th>65890</th>\n      <td>52</td>\n      <td>1</td>\n      <td>1</td>\n      <td>2</td>\n      <td>2</td>\n      <td>1</td>\n      <td>2</td>\n      <td>1</td>\n      <td>2</td>\n      <td>2</td>\n      <td>2</td>\n      <td>2</td>\n      <td>2</td>\n      <td>2</td>\n      <td>1</td>\n      <td>2</td>\n      <td>2</td>\n      <td>3</td>\n      <td>2</td>\n    </tr>\n  </tbody>\n</table>\n<p>75712 rows × 19 columns</p>\n</div>"
     },
     "execution_count": 28,
     "metadata": {},
     "output_type": "execute_result"
    }
   ],
   "source": [
    "X_train = X_train[features]\n",
    "X_train"
   ]
  },
  {
   "cell_type": "code",
   "execution_count": 29,
   "metadata": {
    "colab": {
     "base_uri": "https://localhost:8080/",
     "height": 483
    },
    "executionInfo": {
     "elapsed": 11,
     "status": "ok",
     "timestamp": 1669876572574,
     "user": {
      "displayName": "Илья Жаров",
      "userId": "13442611294234190725"
     },
     "user_tz": -180
    },
    "id": "alK-yfPChvmt",
    "outputId": "0fa4256c-6f59-4e93-fbdc-f515339e8fd7",
    "pycharm": {
     "name": "#%%\n"
    }
   },
   "outputs": [
    {
     "data": {
      "text/plain": "        AGE  USMER  SEX  PATIENT_TYPE  INTUBED  PNEUMONIA  PREGNANT  DIABETES  \\\n103091   28      2    2             2        2          2         3         2   \n457234   28      1    2             2        1          1         3         2   \n488985   55      2    1             2        2          1         2         2   \n551150   45      1    2             2        2          1         3         2   \n448099   79      1    1             2        2          1         2         1   \n...     ...    ...  ...           ...      ...        ...       ...       ...   \n555668   48      1    2             2        2          1         3         2   \n449973   47      1    2             2        2          1         3         2   \n467101   64      2    2             2        2          1         3         2   \n396597   53      2    2             2        1          1         3         2   \n2127     73      1    2             2        2          2         3         2   \n\n        COPD  ASTHMA  INMSUPR  HIPERTENSION  OTHER_DISEASE  CARDIOVASCULAR  \\\n103091     2       2        2             2              2               2   \n457234     2       2        2             2              2               2   \n488985     2       2        2             2              2               2   \n551150     2       2        2             2              2               2   \n448099     2       2        2             1              2               2   \n...      ...     ...      ...           ...            ...             ...   \n555668     2       2        2             2              2               2   \n449973     2       2        2             1              2               2   \n467101     2       2        2             1              2               2   \n396597     2       2        2             2              2               2   \n2127       2       2        2             2              2               2   \n\n        OBESITY  RENAL_CHRONIC  TOBACCO  CLASIFFICATION_FINAL  ICU  \n103091        2              2        2                     3    2  \n457234        2              2        2                     3    2  \n488985        2              2        2                     3    2  \n551150        2              2        2                     3    2  \n448099        1              1        2                     3    2  \n...         ...            ...      ...                   ...  ...  \n555668        2              2        2                     3    2  \n449973        2              2        2                     3    2  \n467101        2              2        2                     3    2  \n396597        2              2        2                     3    1  \n2127          2              2        1                     3    2  \n\n[32448 rows x 19 columns]",
      "text/html": "<div>\n<style scoped>\n    .dataframe tbody tr th:only-of-type {\n        vertical-align: middle;\n    }\n\n    .dataframe tbody tr th {\n        vertical-align: top;\n    }\n\n    .dataframe thead th {\n        text-align: right;\n    }\n</style>\n<table border=\"1\" class=\"dataframe\">\n  <thead>\n    <tr style=\"text-align: right;\">\n      <th></th>\n      <th>AGE</th>\n      <th>USMER</th>\n      <th>SEX</th>\n      <th>PATIENT_TYPE</th>\n      <th>INTUBED</th>\n      <th>PNEUMONIA</th>\n      <th>PREGNANT</th>\n      <th>DIABETES</th>\n      <th>COPD</th>\n      <th>ASTHMA</th>\n      <th>INMSUPR</th>\n      <th>HIPERTENSION</th>\n      <th>OTHER_DISEASE</th>\n      <th>CARDIOVASCULAR</th>\n      <th>OBESITY</th>\n      <th>RENAL_CHRONIC</th>\n      <th>TOBACCO</th>\n      <th>CLASIFFICATION_FINAL</th>\n      <th>ICU</th>\n    </tr>\n  </thead>\n  <tbody>\n    <tr>\n      <th>103091</th>\n      <td>28</td>\n      <td>2</td>\n      <td>2</td>\n      <td>2</td>\n      <td>2</td>\n      <td>2</td>\n      <td>3</td>\n      <td>2</td>\n      <td>2</td>\n      <td>2</td>\n      <td>2</td>\n      <td>2</td>\n      <td>2</td>\n      <td>2</td>\n      <td>2</td>\n      <td>2</td>\n      <td>2</td>\n      <td>3</td>\n      <td>2</td>\n    </tr>\n    <tr>\n      <th>457234</th>\n      <td>28</td>\n      <td>1</td>\n      <td>2</td>\n      <td>2</td>\n      <td>1</td>\n      <td>1</td>\n      <td>3</td>\n      <td>2</td>\n      <td>2</td>\n      <td>2</td>\n      <td>2</td>\n      <td>2</td>\n      <td>2</td>\n      <td>2</td>\n      <td>2</td>\n      <td>2</td>\n      <td>2</td>\n      <td>3</td>\n      <td>2</td>\n    </tr>\n    <tr>\n      <th>488985</th>\n      <td>55</td>\n      <td>2</td>\n      <td>1</td>\n      <td>2</td>\n      <td>2</td>\n      <td>1</td>\n      <td>2</td>\n      <td>2</td>\n      <td>2</td>\n      <td>2</td>\n      <td>2</td>\n      <td>2</td>\n      <td>2</td>\n      <td>2</td>\n      <td>2</td>\n      <td>2</td>\n      <td>2</td>\n      <td>3</td>\n      <td>2</td>\n    </tr>\n    <tr>\n      <th>551150</th>\n      <td>45</td>\n      <td>1</td>\n      <td>2</td>\n      <td>2</td>\n      <td>2</td>\n      <td>1</td>\n      <td>3</td>\n      <td>2</td>\n      <td>2</td>\n      <td>2</td>\n      <td>2</td>\n      <td>2</td>\n      <td>2</td>\n      <td>2</td>\n      <td>2</td>\n      <td>2</td>\n      <td>2</td>\n      <td>3</td>\n      <td>2</td>\n    </tr>\n    <tr>\n      <th>448099</th>\n      <td>79</td>\n      <td>1</td>\n      <td>1</td>\n      <td>2</td>\n      <td>2</td>\n      <td>1</td>\n      <td>2</td>\n      <td>1</td>\n      <td>2</td>\n      <td>2</td>\n      <td>2</td>\n      <td>1</td>\n      <td>2</td>\n      <td>2</td>\n      <td>1</td>\n      <td>1</td>\n      <td>2</td>\n      <td>3</td>\n      <td>2</td>\n    </tr>\n    <tr>\n      <th>...</th>\n      <td>...</td>\n      <td>...</td>\n      <td>...</td>\n      <td>...</td>\n      <td>...</td>\n      <td>...</td>\n      <td>...</td>\n      <td>...</td>\n      <td>...</td>\n      <td>...</td>\n      <td>...</td>\n      <td>...</td>\n      <td>...</td>\n      <td>...</td>\n      <td>...</td>\n      <td>...</td>\n      <td>...</td>\n      <td>...</td>\n      <td>...</td>\n    </tr>\n    <tr>\n      <th>555668</th>\n      <td>48</td>\n      <td>1</td>\n      <td>2</td>\n      <td>2</td>\n      <td>2</td>\n      <td>1</td>\n      <td>3</td>\n      <td>2</td>\n      <td>2</td>\n      <td>2</td>\n      <td>2</td>\n      <td>2</td>\n      <td>2</td>\n      <td>2</td>\n      <td>2</td>\n      <td>2</td>\n      <td>2</td>\n      <td>3</td>\n      <td>2</td>\n    </tr>\n    <tr>\n      <th>449973</th>\n      <td>47</td>\n      <td>1</td>\n      <td>2</td>\n      <td>2</td>\n      <td>2</td>\n      <td>1</td>\n      <td>3</td>\n      <td>2</td>\n      <td>2</td>\n      <td>2</td>\n      <td>2</td>\n      <td>1</td>\n      <td>2</td>\n      <td>2</td>\n      <td>2</td>\n      <td>2</td>\n      <td>2</td>\n      <td>3</td>\n      <td>2</td>\n    </tr>\n    <tr>\n      <th>467101</th>\n      <td>64</td>\n      <td>2</td>\n      <td>2</td>\n      <td>2</td>\n      <td>2</td>\n      <td>1</td>\n      <td>3</td>\n      <td>2</td>\n      <td>2</td>\n      <td>2</td>\n      <td>2</td>\n      <td>1</td>\n      <td>2</td>\n      <td>2</td>\n      <td>2</td>\n      <td>2</td>\n      <td>2</td>\n      <td>3</td>\n      <td>2</td>\n    </tr>\n    <tr>\n      <th>396597</th>\n      <td>53</td>\n      <td>2</td>\n      <td>2</td>\n      <td>2</td>\n      <td>1</td>\n      <td>1</td>\n      <td>3</td>\n      <td>2</td>\n      <td>2</td>\n      <td>2</td>\n      <td>2</td>\n      <td>2</td>\n      <td>2</td>\n      <td>2</td>\n      <td>2</td>\n      <td>2</td>\n      <td>2</td>\n      <td>3</td>\n      <td>1</td>\n    </tr>\n    <tr>\n      <th>2127</th>\n      <td>73</td>\n      <td>1</td>\n      <td>2</td>\n      <td>2</td>\n      <td>2</td>\n      <td>2</td>\n      <td>3</td>\n      <td>2</td>\n      <td>2</td>\n      <td>2</td>\n      <td>2</td>\n      <td>2</td>\n      <td>2</td>\n      <td>2</td>\n      <td>2</td>\n      <td>2</td>\n      <td>1</td>\n      <td>3</td>\n      <td>2</td>\n    </tr>\n  </tbody>\n</table>\n<p>32448 rows × 19 columns</p>\n</div>"
     },
     "execution_count": 29,
     "metadata": {},
     "output_type": "execute_result"
    }
   ],
   "source": [
    "X_test = X_test[features]\n",
    "X_test"
   ]
  },
  {
   "cell_type": "markdown",
   "metadata": {
    "id": "Ln6-u7oCZFoE",
    "pycharm": {
     "name": "#%% md\n"
    }
   },
   "source": [
    "Для работы с категориальными признаками воспользуемся библиотекой Target Encoder."
   ]
  },
  {
   "cell_type": "code",
   "execution_count": 30,
   "metadata": {
    "colab": {
     "base_uri": "https://localhost:8080/"
    },
    "executionInfo": {
     "elapsed": 3421,
     "status": "ok",
     "timestamp": 1669876575985,
     "user": {
      "displayName": "Илья Жаров",
      "userId": "13442611294234190725"
     },
     "user_tz": -180
    },
    "id": "mP81d5U3eJ82",
    "outputId": "398ef596-4c3a-4a39-91d3-d75b46bbc33b",
    "pycharm": {
     "name": "#%%\n"
    }
   },
   "outputs": [],
   "source": [
    "!pip install category_encoders -q\n",
    "import category_encoders as ce"
   ]
  },
  {
   "cell_type": "code",
   "execution_count": 31,
   "metadata": {
    "id": "JNKAuG3BeK76",
    "pycharm": {
     "name": "#%%\n"
    }
   },
   "outputs": [],
   "source": [
    "te = ce.target_encoder.TargetEncoder(cols=cat_df)\n",
    "X_train = te.fit_transform(X_train, y_train)\n",
    "X_test = te.transform(X_test)"
   ]
  },
  {
   "cell_type": "markdown",
   "metadata": {
    "id": "drYuAlXZZZ3m",
    "pycharm": {
     "name": "#%% md\n"
    }
   },
   "source": [
    "Обучим модель с параметрами \"по умолчанию\""
   ]
  },
  {
   "cell_type": "code",
   "execution_count": 32,
   "metadata": {
    "colab": {
     "base_uri": "https://localhost:8080/"
    },
    "executionInfo": {
     "elapsed": 28243,
     "status": "ok",
     "timestamp": 1669876662940,
     "user": {
      "displayName": "Илья Жаров",
      "userId": "13442611294234190725"
     },
     "user_tz": -180
    },
    "id": "AnqhAUnAZghr",
    "outputId": "41285198-fe74-449d-ec1b-b838c1276de3",
    "pycharm": {
     "name": "#%%\n"
    }
   },
   "outputs": [
    {
     "name": "stdout",
     "output_type": "stream",
     "text": [
      "Accuracy of the first Random Forest: 0.7121\n"
     ]
    }
   ],
   "source": [
    "from sklearn.ensemble import RandomForestClassifier\n",
    "from sklearn.metrics import accuracy_score\n",
    "from sklearn.model_selection import StratifiedKFold, cross_val_score \n",
    "\n",
    "# Инициализируем стратифицированную разбивку нашего датасета для валидации\n",
    "cv = StratifiedKFold(n_splits=5, shuffle=True, random_state=77)\n",
    "\n",
    "# Инициализируем наш классификатор с дефолтными параметрами\n",
    "random_forest = RandomForestClassifier(random_state=55)\n",
    "\n",
    "# Обучаем на тренировочном датасете\n",
    "results = cross_val_score(random_forest, X_train[features], y_train, cv=cv)\n",
    "\n",
    "# Оцениваем точность на тестовом датасете\n",
    "print(\"Accuracy of the first Random Forest: {:.4f}\".format(results.mean()))"
   ]
  },
  {
   "cell_type": "markdown",
   "source": [
    "Подбор параметров модели."
   ],
   "metadata": {
    "id": "PN9Tb53ODZjH",
    "pycharm": {
     "name": "#%% md\n"
    }
   }
  },
  {
   "cell_type": "code",
   "execution_count": 33,
   "metadata": {
    "colab": {
     "background_save": true
    },
    "id": "lH6Llissafqj",
    "outputId": "c6b2465a-4bb5-42fd-aae0-a0a29ccf622e",
    "pycharm": {
     "name": "#%%\n"
    }
   },
   "outputs": [
    {
     "name": "stdout",
     "output_type": "stream",
     "text": [
      "best score:  0.7164782701657225\n",
      "best param:  {'max_features': 8, 'n_estimators': 500}\n",
      "test score: 0.7189349112426036\n"
     ]
    }
   ],
   "source": [
    "from sklearn.model_selection import StratifiedKFold, GridSearchCV\n",
    "\n",
    "n_estimators = [300, 500, 700, 1000]\n",
    "max_features = [8, 20]\n",
    "model_accuracies = {}  # сюда будем сохранять качество натренированных моделей\n",
    "\n",
    "cv = StratifiedKFold(n_splits=5, shuffle=True, random_state=12)\n",
    "\n",
    "random_forest = RandomForestClassifier(random_state=22, n_jobs=-1, oob_score=True)\n",
    "\n",
    "grid_rf = GridSearchCV(estimator=random_forest, cv=cv, \n",
    "        param_grid=dict(n_estimators=n_estimators, max_features=max_features))\n",
    "grid_rf.fit(X_train, y_train)\n",
    "print(\"best score: \", grid_rf.best_score_)\n",
    "print(\"best param: \", grid_rf.best_params_)\n",
    "model_accuracies['Random Forest'] = grid_rf.score(X_test, y_test)\n",
    "print(\"test score:\", model_accuracies['Random Forest'])"
   ]
  },
  {
   "cell_type": "code",
   "source": [
    "import numpy as np"
   ],
   "metadata": {
    "id": "A6f05KudeGdK",
    "executionInfo": {
     "status": "ok",
     "timestamp": 1669877769480,
     "user_tz": -180,
     "elapsed": 321,
     "user": {
      "displayName": "Илья Жаров",
      "userId": "13442611294234190725"
     }
    },
    "pycharm": {
     "name": "#%%\n"
    }
   },
   "execution_count": 34,
   "outputs": []
  },
  {
   "cell_type": "code",
   "execution_count": 35,
   "metadata": {
    "id": "mvqJOx9smwX1",
    "executionInfo": {
     "status": "ok",
     "timestamp": 1669877771850,
     "user_tz": -180,
     "elapsed": 4,
     "user": {
      "displayName": "Илья Жаров",
      "userId": "13442611294234190725"
     }
    },
    "pycharm": {
     "name": "#%%\n"
    }
   },
   "outputs": [],
   "source": [
    "def plot_grid_search(cv_results, grid_param_1, grid_param_2, name_param_1, name_param_2):\n",
    "    # Get Test Scores Mean and std for each grid search\n",
    "    scores_mean = cv_results['mean_test_score']\n",
    "    scores_mean = np.array(scores_mean).reshape(len(grid_param_2),len(grid_param_1))\n",
    "\n",
    "    scores_sd = cv_results['std_test_score']\n",
    "    scores_sd = np.array(scores_sd).reshape(len(grid_param_2),len(grid_param_1))\n",
    "\n",
    "    # Plot Grid search scores\n",
    "    _, ax = plt.subplots(1,1,figsize=(15, 10))\n",
    "\n",
    "    # Param1 is the X-axis, Param 2 is represented as a different curve (color line)\n",
    "    for idx, val in enumerate(grid_param_2):\n",
    "        ax.plot(grid_param_1, scores_mean[idx,:], '-o', label= name_param_2 + ': ' + str(val))\n",
    "\n",
    "    ax.set_title(\"Grid Search Scores\", fontsize=20, fontweight='bold')\n",
    "    ax.set_xlabel(name_param_1, fontsize=16)\n",
    "    ax.set_ylabel('CV Average Score', fontsize=16)\n",
    "    ax.legend(loc=\"best\", fontsize=15)\n",
    "    ax.grid('on')"
   ]
  },
  {
   "cell_type": "code",
   "execution_count": 36,
   "metadata": {
    "colab": {
     "base_uri": "https://localhost:8080/",
     "height": 633
    },
    "id": "R0kUc9Zrm0sl",
    "executionInfo": {
     "status": "ok",
     "timestamp": 1669877775817,
     "user_tz": -180,
     "elapsed": 1547,
     "user": {
      "displayName": "Илья Жаров",
      "userId": "13442611294234190725"
     }
    },
    "outputId": "a99ad2df-84e5-42bf-d517-a5684d7c5eb9",
    "pycharm": {
     "name": "#%%\n"
    }
   },
   "outputs": [
    {
     "data": {
      "text/plain": "<Figure size 1500x1000 with 1 Axes>",
      "image/png": "[encoded data removed]"
     },
     "metadata": {},
     "output_type": "display_data"
    }
   ],
   "source": [
    "# Вызов функции отрисовки\n",
    "plot_grid_search(grid_rf.cv_results_, n_estimators, max_features, 'n_estimators', 'max_features')"
   ]
  },
  {
   "cell_type": "markdown",
   "source": [
    "Подбераем следующие параметры:\n",
    "\n",
    "criterion - функция активации\n",
    "\n",
    "max_depth - максимальная высота дерева"
   ],
   "metadata": {
    "id": "Ju3ComzgLwdg",
    "pycharm": {
     "name": "#%% md\n"
    }
   }
  },
  {
   "cell_type": "code",
   "execution_count": 37,
   "metadata": {
    "colab": {
     "base_uri": "https://localhost:8080/"
    },
    "id": "9lO_-mVBsI5d",
    "executionInfo": {
     "status": "ok",
     "timestamp": 1669879851147,
     "user_tz": -180,
     "elapsed": 2063504,
     "user": {
      "displayName": "Илья Жаров",
      "userId": "13442611294234190725"
     }
    },
    "outputId": "fc83ac5a-dc3d-4410-b66a-42449f81bf3d",
    "pycharm": {
     "name": "#%%\n"
    }
   },
   "outputs": [
    {
     "name": "stdout",
     "output_type": "stream",
     "text": [
      "best score:  0.7456810057856135\n",
      "best param:  {'criterion': 'entropy', 'max_depth': 10, 'max_features': 8, 'n_estimators': 500}\n",
      "test score: 0.7440520216962525\n"
     ]
    }
   ],
   "source": [
    "n_estimators = [500]\n",
    "max_features = [8]\n",
    "criterion = [\"gini\", \"entropy\"]\n",
    "max_depth = np.arange(1, 15)\n",
    "\n",
    "cv = StratifiedKFold(n_splits=5, shuffle=True, random_state=12)\n",
    "\n",
    "#добавим уже подобранные параметры\n",
    "random_forest = RandomForestClassifier(random_state=33, n_jobs=-1, oob_score=True)\n",
    "\n",
    "grid_rf = GridSearchCV(estimator=random_forest, cv=cv, \n",
    "        param_grid=dict(n_estimators=n_estimators, max_features=max_features,\n",
    "                        criterion=criterion, max_depth=max_depth))\n",
    "grid_rf.fit(X_train, y_train)\n",
    "print(\"best score: \", grid_rf.best_score_)\n",
    "print(\"best param: \", grid_rf.best_params_)\n",
    "model_accuracies['Random Forest'] = grid_rf.score(X_test, y_test)\n",
    "print(\"test score:\", model_accuracies['Random Forest'])"
   ]
  },
  {
   "cell_type": "code",
   "execution_count": 38,
   "metadata": {
    "colab": {
     "base_uri": "https://localhost:8080/",
     "height": 633
    },
    "id": "xAvFy2KYsdbO",
    "executionInfo": {
     "status": "ok",
     "timestamp": 1669879851153,
     "user_tz": -180,
     "elapsed": 60,
     "user": {
      "displayName": "Илья Жаров",
      "userId": "13442611294234190725"
     }
    },
    "outputId": "48bcb34d-ae89-4d7c-97d8-f9132295da91",
    "pycharm": {
     "name": "#%%\n"
    }
   },
   "outputs": [
    {
     "data": {
      "text/plain": "<Figure size 1500x1000 with 1 Axes>",
      "image/png": "[encoded data removed]"
     },
     "metadata": {},
     "output_type": "display_data"
    }
   ],
   "source": [
    "plot_grid_search(grid_rf.cv_results_, max_depth, criterion, 'max_depth', 'criterion')"
   ]
  },
  {
   "cell_type": "markdown",
   "source": [
    "После max_depth равоного 5-8 точность модели не увеличивается.\n",
    "\n",
    "При этом знчение criterion = 'gini' и  'entropy' в этом диапазоне ведут себя одинаково.\n",
    "\n",
    "Попробуем уточнить параметры модели с учетом полученных выше показателях.\n",
    "\n",
    "Возьмём:\n",
    "\n",
    " max_depth = [5, 6, 7, 8]\n",
    " \n",
    "criterion = 'entropy'\n",
    "\n",
    "n_estimators = [500]\n",
    "\n",
    "min_samples_split = [2, 4, 6]\n",
    "\n",
    "min_samples_leaf = [1, 2, 4]\n",
    "\n",
    "где то в этом диапазоне и criterion = 'entropy', так как этот криетрий показывает более высокое качество для этих значений глубины."
   ],
   "metadata": {
    "id": "9aInn2XvmraQ",
    "pycharm": {
     "name": "#%% md\n"
    }
   }
  },
  {
   "cell_type": "code",
   "source": [
    "n_estimators = [500]\n",
    "max_features = [8]\n",
    "criterion = [\"entropy\"]\n",
    "max_depth = np.arange(5,9)\n",
    "min_samples_split = [2, 4, 6]\n",
    "min_samples_leaf = [1, 2, 4]\n",
    "\n",
    "cv = StratifiedKFold(n_splits=5, shuffle=True, random_state=12)\n",
    "\n",
    "random_forest = RandomForestClassifier(random_state=33, n_jobs=-1, oob_score=True)\n",
    "\n",
    "grid_rf = GridSearchCV(estimator=random_forest, cv=cv, \n",
    "        param_grid=dict(n_estimators=n_estimators, max_features=max_features,\n",
    "                        criterion=criterion, max_depth=max_depth,\n",
    "                        min_samples_split=min_samples_split, min_samples_leaf=min_samples_leaf))\n",
    "grid_rf.fit(X_train, y_train)\n",
    "print(\"best score: \", grid_rf.best_score_)\n",
    "print(\"best param: \", grid_rf.best_params_)\n",
    "model_accuracies['Random Forest'] = grid_rf.score(X_test, y_test)\n",
    "print(\"test score:\", model_accuracies['Random Forest'])"
   ],
   "metadata": {
    "colab": {
     "base_uri": "https://localhost:8080/"
    },
    "id": "TjXgNC22pq57",
    "executionInfo": {
     "status": "ok",
     "timestamp": 1669883708949,
     "user_tz": -180,
     "elapsed": 2649503,
     "user": {
      "displayName": "Илья Жаров",
      "userId": "13442611294234190725"
     }
    },
    "outputId": "6ecdf1aa-1f8a-429c-93ad-9ba7a543c6bc",
    "pycharm": {
     "name": "#%%\n"
    }
   },
   "execution_count": 39,
   "outputs": [
    {
     "name": "stdout",
     "output_type": "stream",
     "text": [
      "best score:  0.7450998469196748\n",
      "best param:  {'criterion': 'entropy', 'max_depth': 8, 'max_features': 8, 'min_samples_leaf': 1, 'min_samples_split': 2, 'n_estimators': 500}\n",
      "test score: 0.7423878205128205\n"
     ]
    }
   ]
  },
  {
   "cell_type": "markdown",
   "source": [
    "Обучим модель по подобранным параметрам и оценим результат на тестовой выборке."
   ],
   "metadata": {
    "id": "izQGmkzJtu0E",
    "pycharm": {
     "name": "#%% md\n"
    }
   }
  },
  {
   "cell_type": "code",
   "source": [
    "model = RandomForestClassifier(n_estimators = 500, \n",
    "                               criterion = 'entropy', \n",
    "                               max_features = 8,\n",
    "                               max_depth = 8,\n",
    "                               min_samples_split = 2,\n",
    "                               min_samples_leaf = 1)\n",
    "result_train = model.fit(X_train, y_train)\n",
    "result_test = model.predict(X_test)"
   ],
   "metadata": {
    "id": "lC_vzOjUuGt-",
    "executionInfo": {
     "status": "ok",
     "timestamp": 1669883841754,
     "user_tz": -180,
     "elapsed": 20280,
     "user": {
      "displayName": "Илья Жаров",
      "userId": "13442611294234190725"
     }
    },
    "pycharm": {
     "name": "#%%\n"
    }
   },
   "execution_count": 40,
   "outputs": []
  },
  {
   "cell_type": "code",
   "source": [
    "from sklearn.metrics import classification_report\n",
    "from sklearn.metrics import recall_score\n",
    "from sklearn.metrics import precision_score\n",
    "\n",
    "recall = recall_score(y_test, result_test,average='macro')\n",
    "precision = precision_score(y_test, result_test, average='macro')\n",
    "print(classification_report(y_test, result_test))\n",
    "print(2*(precision * recall) / (precision + recall))"
   ],
   "metadata": {
    "colab": {
     "base_uri": "https://localhost:8080/"
    },
    "id": "dV-XxQdOwokF",
    "executionInfo": {
     "status": "ok",
     "timestamp": 1669883955212,
     "user_tz": -180,
     "elapsed": 617,
     "user": {
      "displayName": "Илья Жаров",
      "userId": "13442611294234190725"
     }
    },
    "outputId": "f71754a4-ce65-4851-a4fa-6ff5aeaf2833",
    "pycharm": {
     "name": "#%%\n"
    }
   },
   "execution_count": 41,
   "outputs": [
    {
     "name": "stdout",
     "output_type": "stream",
     "text": [
      "              precision    recall  f1-score   support\n",
      "\n",
      "         0.0       0.74      0.84      0.79     18337\n",
      "         1.0       0.75      0.61      0.67     14111\n",
      "\n",
      "    accuracy                           0.74     32448\n",
      "   macro avg       0.74      0.73      0.73     32448\n",
      "weighted avg       0.74      0.74      0.74     32448\n",
      "\n",
      "0.7361781788066641\n"
     ]
    }
   ]
  },
  {
   "cell_type": "markdown",
   "source": [
    "Послесловие.\n",
    "\n",
    "Суть данного исследования была определить влияние сопутствующих заболеваний в сочетании с короновирусом Covid-19. А так попытаться предсказать риск летального исхода при различных их сочетаниях. \n",
    "\n",
    "Пусть данная модель не высокой точности, но она позволяет обратить внимание врачей на риски литального исхода при тех или иных сочетаниях."
   ],
   "metadata": {
    "id": "A2iCHYwD2BHi",
    "pycharm": {
     "name": "#%% md\n"
    }
   }
  }
 ],
 "metadata": {
  "accelerator": "GPU",
  "colab": {
   "provenance": [],
   "authorship_tag": "ABX9TyMcJNR5MtQQJrE9rksv234u"
  },
  "gpuClass": "standard",
  "kernelspec": {
   "display_name": "Python 3",
   "name": "python3"
  },
  "language_info": {
   "name": "python"
  }
 },
 "nbformat": 4,
 "nbformat_minor": 0
}